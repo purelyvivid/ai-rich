{
 "cells": [
  {
   "cell_type": "code",
   "execution_count": null,
   "metadata": {},
   "outputs": [],
   "source": [
    "cp -r ~/datasets/meetup/backup/CrudeOil ."
   ]
  },
  {
   "cell_type": "code",
   "execution_count": 1,
   "metadata": {},
   "outputs": [
    {
     "name": "stdout",
     "output_type": "stream",
     "text": [
      "2.1.0\n"
     ]
    }
   ],
   "source": [
    "import tensorflow as tf\n",
    "import numpy as np\n",
    "import pandas as pd\n",
    "import matplotlib.pyplot as plt\n",
    "print(tf.__version__)"
   ]
  },
  {
   "cell_type": "markdown",
   "metadata": {},
   "source": [
    "# Load Data"
   ]
  },
  {
   "cell_type": "code",
   "execution_count": 2,
   "metadata": {},
   "outputs": [
    {
     "data": {
      "text/plain": [
       "(2517, 7)"
      ]
     },
     "execution_count": 2,
     "metadata": {},
     "output_type": "execute_result"
    }
   ],
   "source": [
    "data = pd.read_csv(\"CrudeOil/CL=F_daily.csv\")\n",
    "data.shape"
   ]
  },
  {
   "cell_type": "code",
   "execution_count": 3,
   "metadata": {},
   "outputs": [
    {
     "data": {
      "text/html": [
       "<div>\n",
       "<style scoped>\n",
       "    .dataframe tbody tr th:only-of-type {\n",
       "        vertical-align: middle;\n",
       "    }\n",
       "\n",
       "    .dataframe tbody tr th {\n",
       "        vertical-align: top;\n",
       "    }\n",
       "\n",
       "    .dataframe thead th {\n",
       "        text-align: right;\n",
       "    }\n",
       "</style>\n",
       "<table border=\"1\" class=\"dataframe\">\n",
       "  <thead>\n",
       "    <tr style=\"text-align: right;\">\n",
       "      <th></th>\n",
       "      <th>Date</th>\n",
       "      <th>Open</th>\n",
       "      <th>High</th>\n",
       "      <th>Low</th>\n",
       "      <th>Close</th>\n",
       "      <th>Adj Close</th>\n",
       "      <th>Volume</th>\n",
       "    </tr>\n",
       "  </thead>\n",
       "  <tbody>\n",
       "    <tr>\n",
       "      <th>0</th>\n",
       "      <td>2011-04-25</td>\n",
       "      <td>112.339996</td>\n",
       "      <td>113.480003</td>\n",
       "      <td>111.080002</td>\n",
       "      <td>112.279999</td>\n",
       "      <td>112.279999</td>\n",
       "      <td>209683.0</td>\n",
       "    </tr>\n",
       "    <tr>\n",
       "      <th>1</th>\n",
       "      <td>2011-04-26</td>\n",
       "      <td>112.150002</td>\n",
       "      <td>112.639999</td>\n",
       "      <td>111.120003</td>\n",
       "      <td>112.209999</td>\n",
       "      <td>112.209999</td>\n",
       "      <td>234441.0</td>\n",
       "    </tr>\n",
       "    <tr>\n",
       "      <th>2</th>\n",
       "      <td>2011-04-27</td>\n",
       "      <td>111.889999</td>\n",
       "      <td>113.400002</td>\n",
       "      <td>110.709999</td>\n",
       "      <td>112.760002</td>\n",
       "      <td>112.760002</td>\n",
       "      <td>338697.0</td>\n",
       "    </tr>\n",
       "    <tr>\n",
       "      <th>3</th>\n",
       "      <td>2011-04-28</td>\n",
       "      <td>113.129997</td>\n",
       "      <td>113.970001</td>\n",
       "      <td>111.690002</td>\n",
       "      <td>112.860001</td>\n",
       "      <td>112.860001</td>\n",
       "      <td>301604.0</td>\n",
       "    </tr>\n",
       "    <tr>\n",
       "      <th>4</th>\n",
       "      <td>2011-04-29</td>\n",
       "      <td>112.820000</td>\n",
       "      <td>114.180000</td>\n",
       "      <td>112.250000</td>\n",
       "      <td>113.930000</td>\n",
       "      <td>113.930000</td>\n",
       "      <td>201831.0</td>\n",
       "    </tr>\n",
       "  </tbody>\n",
       "</table>\n",
       "</div>"
      ],
      "text/plain": [
       "         Date        Open        High         Low       Close   Adj Close  \\\n",
       "0  2011-04-25  112.339996  113.480003  111.080002  112.279999  112.279999   \n",
       "1  2011-04-26  112.150002  112.639999  111.120003  112.209999  112.209999   \n",
       "2  2011-04-27  111.889999  113.400002  110.709999  112.760002  112.760002   \n",
       "3  2011-04-28  113.129997  113.970001  111.690002  112.860001  112.860001   \n",
       "4  2011-04-29  112.820000  114.180000  112.250000  113.930000  113.930000   \n",
       "\n",
       "     Volume  \n",
       "0  209683.0  \n",
       "1  234441.0  \n",
       "2  338697.0  \n",
       "3  301604.0  \n",
       "4  201831.0  "
      ]
     },
     "execution_count": 3,
     "metadata": {},
     "output_type": "execute_result"
    }
   ],
   "source": [
    "data.head()"
   ]
  },
  {
   "cell_type": "markdown",
   "metadata": {},
   "source": [
    "# Remove NaN"
   ]
  },
  {
   "cell_type": "code",
   "execution_count": 4,
   "metadata": {},
   "outputs": [
    {
     "data": {
      "text/plain": [
       "<matplotlib.axes._subplots.AxesSubplot at 0x7fe4952913d0>"
      ]
     },
     "execution_count": 4,
     "metadata": {},
     "output_type": "execute_result"
    },
    {
     "data": {
      "image/png": "[encoded data removed]",
      "text/plain": [
       "<Figure size 432x288 with 1 Axes>"
      ]
     },
     "metadata": {
      "needs_background": "light"
     },
     "output_type": "display_data"
    }
   ],
   "source": [
    "data.Close.plot()"
   ]
  },
  {
   "cell_type": "code",
   "execution_count": 5,
   "metadata": {},
   "outputs": [
    {
     "data": {
      "text/plain": [
       "23"
      ]
     },
     "execution_count": 5,
     "metadata": {},
     "output_type": "execute_result"
    }
   ],
   "source": [
    "pd.isna(data.Close).sum()"
   ]
  },
  {
   "cell_type": "code",
   "execution_count": 6,
   "metadata": {},
   "outputs": [
    {
     "name": "stdout",
     "output_type": "stream",
     "text": [
      "(2494,)\n"
     ]
    }
   ],
   "source": [
    "series = data.Close[~pd.isna(data.Close)]\n",
    "time_str = data.Date[~pd.isna(data.Close)]\n",
    "print(series.shape)"
   ]
  },
  {
   "cell_type": "markdown",
   "metadata": {},
   "source": [
    "# Define Param"
   ]
  },
  {
   "cell_type": "code",
   "execution_count": 7,
   "metadata": {},
   "outputs": [],
   "source": [
    "window_size = 14\n",
    "delay = 10"
   ]
  },
  {
   "cell_type": "markdown",
   "metadata": {},
   "source": [
    "# Split Train/Valid"
   ]
  },
  {
   "cell_type": "code",
   "execution_count": 8,
   "metadata": {},
   "outputs": [
    {
     "name": "stdout",
     "output_type": "stream",
     "text": [
      "split_time_str:  2020-11-19\n"
     ]
    }
   ],
   "source": [
    "train_ratio = 0.95\n",
    "split_time = int(len(data)*train_ratio)\n",
    "print(\"split_time_str: \", time_str.iloc[split_time])"
   ]
  },
  {
   "cell_type": "code",
   "execution_count": 9,
   "metadata": {},
   "outputs": [
    {
     "name": "stdout",
     "output_type": "stream",
     "text": [
      "(2391,) (127,) (14,)\n"
     ]
    }
   ],
   "source": [
    "x_train = series[:split_time]\n",
    "x_valid = series[split_time-(window_size+delay):]\n",
    "x_forcast = series[-window_size:]\n",
    "print(x_train.shape, x_valid.shape, x_forcast.shape)"
   ]
  },
  {
   "cell_type": "code",
   "execution_count": 10,
   "metadata": {},
   "outputs": [
    {
     "data": {
      "text/plain": [
       "<matplotlib.legend.Legend at 0x7fe4951e6410>"
      ]
     },
     "execution_count": 10,
     "metadata": {},
     "output_type": "execute_result"
    },
    {
     "data": {
      "image/png": "[encoded data removed]",
      "text/plain": [
       "<Figure size 432x288 with 1 Axes>"
      ]
     },
     "metadata": {
      "needs_background": "light"
     },
     "output_type": "display_data"
    }
   ],
   "source": [
    "plt.plot(x_train, label=\"train\")\n",
    "plt.plot(x_valid, label=\"valid\")\n",
    "plt.plot(x_forcast, label=\"forcast\")\n",
    "plt.legend()"
   ]
  },
  {
   "cell_type": "markdown",
   "metadata": {},
   "source": [
    "# Prepare Windowed Data"
   ]
  },
  {
   "cell_type": "code",
   "execution_count": 11,
   "metadata": {},
   "outputs": [],
   "source": [
    "def windowed_dataset(series, window_size, batch_size, shuffle_buffer, delay=1, train=True):\n",
    "    dataset = tf.data.Dataset.from_tensor_slices(series)\n",
    "    dataset = dataset.window(window_size + delay, shift=1, drop_remainder=True)\n",
    "    dataset = dataset.flat_map(lambda window: window.batch(window_size + delay))\n",
    "    if train:\n",
    "        dataset = dataset.shuffle(shuffle_buffer)\n",
    "    dataset = dataset.map(lambda window: (window[:window_size], window[-1]))\n",
    "    dataset = dataset.batch(batch_size).prefetch(1)  \n",
    "    return dataset"
   ]
  },
  {
   "cell_type": "code",
   "execution_count": 12,
   "metadata": {},
   "outputs": [],
   "source": [
    "tf.keras.backend.clear_session()\n",
    "tf.random.set_seed(51)\n",
    "np.random.seed(51)"
   ]
  },
  {
   "cell_type": "code",
   "execution_count": 13,
   "metadata": {},
   "outputs": [
    {
     "name": "stdout",
     "output_type": "stream",
     "text": [
      "(2367,) (103,)\n"
     ]
    }
   ],
   "source": [
    "batch_size = 32\n",
    "shuffle_buffer_size = 1000\n",
    "\n",
    "time_str_train = time_str[(window_size+delay):split_time]\n",
    "time_str_valid = time_str[split_time:]\n",
    "print(time_str_train.shape, time_str_valid.shape)\n",
    "\n",
    "train_set = windowed_dataset(x_train, window_size, batch_size=128, shuffle_buffer=shuffle_buffer_size, delay=delay)\n",
    "valid_set = windowed_dataset(x_valid, window_size, batch_size=128, shuffle_buffer=shuffle_buffer_size, delay=delay, train=False)"
   ]
  },
  {
   "cell_type": "code",
   "execution_count": 14,
   "metadata": {},
   "outputs": [
    {
     "name": "stdout",
     "output_type": "stream",
     "text": [
      "x.shape:  (128, 14) , y.shape:  (128,)\n",
      "#records:  2368\n",
      "x.shape:  (104, 14) , y.shape:  (104,)\n",
      "#records:  104\n"
     ]
    }
   ],
   "source": [
    "def check_data(dataset):\n",
    "    count=0\n",
    "    for i,(x,y) in enumerate(dataset):\n",
    "        count+=x.shape[0]\n",
    "        if i==0:\n",
    "            print(\"x.shape: \", x.shape, \", y.shape: \", y.shape)\n",
    "    print(\"#records: \", count)\n",
    "    \n",
    "check_data(train_set)\n",
    "check_data(valid_set)"
   ]
  },
  {
   "cell_type": "markdown",
   "metadata": {},
   "source": [
    "# Train Model"
   ]
  },
  {
   "cell_type": "code",
   "execution_count": 21,
   "metadata": {},
   "outputs": [],
   "source": [
    "model = tf.keras.models.Sequential([\n",
    "  tf.keras.layers.Lambda(lambda x: tf.expand_dims(x, axis=-1),\n",
    "                      input_shape=[None]),\n",
    "  tf.keras.layers.Lambda(lambda x: x / 100.0),\n",
    "  tf.keras.layers.Conv1D(filters=32, kernel_size=5,\n",
    "                      strides=1, padding=\"causal\",\n",
    "                      activation=\"relu\",\n",
    "                      input_shape=[None, 1]),\n",
    "  tf.keras.layers.Bidirectional(tf.keras.layers.LSTM(32, return_sequences=True)),\n",
    "  tf.keras.layers.Bidirectional(tf.keras.layers.LSTM(32)),\n",
    "  tf.keras.layers.Dense(1),\n",
    "  tf.keras.layers.Lambda(lambda x: x * 100.0),\n",
    "  tf.keras.layers.Lambda(lambda x: tf.squeeze(x, axis=-1) ),\n",
    "])"
   ]
  },
  {
   "cell_type": "code",
   "execution_count": 22,
   "metadata": {},
   "outputs": [
    {
     "name": "stdout",
     "output_type": "stream",
     "text": [
      "Epoch 1/20\n",
      "19/19 [==============================] - 5s 288ms/step - loss: 30.8592 - mae: 31.3320 - val_loss: 4.4668 - val_mae: 4.9349\n",
      "Epoch 2/20\n",
      "19/19 [==============================] - 1s 36ms/step - loss: 18.9150 - mae: 19.4014 - val_loss: 11.4154 - val_mae: 11.9154\n",
      "Epoch 3/20\n",
      "19/19 [==============================] - 1s 33ms/step - loss: 14.3081 - mae: 14.7946 - val_loss: 2.8696 - val_mae: 3.3462\n",
      "Epoch 4/20\n",
      "19/19 [==============================] - 1s 32ms/step - loss: 6.8108 - mae: 7.2901 - val_loss: 7.1965 - val_mae: 7.6855\n",
      "Epoch 5/20\n",
      "19/19 [==============================] - 1s 36ms/step - loss: 3.9557 - mae: 4.4293 - val_loss: 4.4553 - val_mae: 4.9487\n",
      "Epoch 6/20\n",
      "19/19 [==============================] - 1s 36ms/step - loss: 4.0002 - mae: 4.4756 - val_loss: 2.7265 - val_mae: 3.2118\n",
      "Epoch 7/20\n",
      "19/19 [==============================] - 1s 39ms/step - loss: 3.8488 - mae: 4.3245 - val_loss: 3.3434 - val_mae: 3.8305\n",
      "Epoch 8/20\n",
      "19/19 [==============================] - 1s 36ms/step - loss: 4.5428 - mae: 5.0234 - val_loss: 3.7724 - val_mae: 4.2601\n",
      "Epoch 9/20\n",
      "19/19 [==============================] - 1s 36ms/step - loss: 4.0195 - mae: 4.4950 - val_loss: 4.9490 - val_mae: 5.4402\n",
      "Epoch 10/20\n",
      "19/19 [==============================] - 1s 38ms/step - loss: 4.1652 - mae: 4.6416 - val_loss: 6.5009 - val_mae: 6.9898\n",
      "Epoch 11/20\n",
      "19/19 [==============================] - 1s 37ms/step - loss: 4.4080 - mae: 4.8855 - val_loss: 3.6866 - val_mae: 4.1728\n",
      "Epoch 12/20\n",
      "19/19 [==============================] - 1s 37ms/step - loss: 4.0550 - mae: 4.5307 - val_loss: 3.1154 - val_mae: 3.5955\n",
      "Epoch 13/20\n",
      "19/19 [==============================] - 1s 37ms/step - loss: 4.6697 - mae: 5.1520 - val_loss: 13.2218 - val_mae: 13.7218\n",
      "Epoch 14/20\n",
      "19/19 [==============================] - 1s 36ms/step - loss: 8.0114 - mae: 8.4965 - val_loss: 3.2136 - val_mae: 3.6981\n",
      "Epoch 15/20\n",
      "19/19 [==============================] - 1s 36ms/step - loss: 4.7568 - mae: 5.2336 - val_loss: 2.3497 - val_mae: 2.7801\n",
      "Epoch 16/20\n",
      "19/19 [==============================] - 1s 35ms/step - loss: 4.1698 - mae: 4.6433 - val_loss: 4.1530 - val_mae: 4.6526\n",
      "Epoch 17/20\n",
      "19/19 [==============================] - 1s 36ms/step - loss: 5.1332 - mae: 5.6131 - val_loss: 2.3179 - val_mae: 2.7523\n",
      "Epoch 18/20\n",
      "19/19 [==============================] - 1s 38ms/step - loss: 8.4393 - mae: 8.9306 - val_loss: 6.8400 - val_mae: 7.3398\n",
      "Epoch 19/20\n",
      "19/19 [==============================] - 1s 36ms/step - loss: 7.4635 - mae: 7.9480 - val_loss: 4.5887 - val_mae: 5.0713\n",
      "Epoch 20/20\n",
      "19/19 [==============================] - 1s 34ms/step - loss: 5.5178 - mae: 6.0038 - val_loss: 2.6522 - val_mae: 3.1333\n"
     ]
    }
   ],
   "source": [
    "lr_schedule = tf.keras.callbacks.LearningRateScheduler(\n",
    "    lambda epoch: 1e-4 * 10**(epoch / 20))\n",
    "optimizer = tf.keras.optimizers.SGD(lr=1e-4, momentum=0.9)\n",
    "model.compile(loss=tf.keras.losses.Huber(),\n",
    "              optimizer=optimizer,\n",
    "              metrics=[\"mae\"])\n",
    "\n",
    "history = model.fit(train_set, validation_data=valid_set, epochs=20, callbacks=[lr_schedule])"
   ]
  },
  {
   "cell_type": "markdown",
   "metadata": {},
   "source": [
    "# Validation"
   ]
  },
  {
   "cell_type": "code",
   "execution_count": 23,
   "metadata": {},
   "outputs": [
    {
     "data": {
      "text/plain": [
       "<matplotlib.legend.Legend at 0x7fe5afc37610>"
      ]
     },
     "execution_count": 23,
     "metadata": {},
     "output_type": "execute_result"
    },
    {
     "data": {
      "image/png": "[encoded data removed]",
      "text/plain": [
       "<Figure size 432x288 with 1 Axes>"
      ]
     },
     "metadata": {
      "needs_background": "light"
     },
     "output_type": "display_data"
    }
   ],
   "source": [
    "y_true = []\n",
    "y_pred = []\n",
    "\n",
    "for x,y in valid_set:\n",
    "    #print(x.shape, y.shape)\n",
    "    y_hat = model.predict(x)\n",
    "    #print(y_hat.shape, y_hat.dtype)\n",
    "    y_true += list(y)\n",
    "    y_pred = list(y_hat)\n",
    "\n",
    "time_index = list(x_valid[window_size+delay-1:].index)\n",
    "plt.plot(time_index, y_true, label=\"valid_true\",c=\"orange\")\n",
    "plt.plot(time_index, y_pred, label=\"valid_pred\",c=\"red\")\n",
    "plt.legend()"
   ]
  },
  {
   "cell_type": "code",
   "execution_count": 24,
   "metadata": {},
   "outputs": [
    {
     "data": {
      "text/plain": [
       "2412    2020-11-19\n",
       "2413    2020-11-20\n",
       "2414    2020-11-23\n",
       "2415    2020-11-24\n",
       "2416    2020-11-25\n",
       "           ...    \n",
       "2512    2021-04-16\n",
       "2513    2021-04-19\n",
       "2514    2021-04-20\n",
       "2515    2021-04-21\n",
       "2516    2021-04-22\n",
       "Name: Date, Length: 103, dtype: object"
      ]
     },
     "execution_count": 24,
     "metadata": {},
     "output_type": "execute_result"
    }
   ],
   "source": [
    "time_str_valid"
   ]
  },
  {
   "cell_type": "markdown",
   "metadata": {},
   "source": [
    "# Forecast"
   ]
  },
  {
   "cell_type": "code",
   "execution_count": 25,
   "metadata": {},
   "outputs": [
    {
     "data": {
      "text/plain": [
       "<matplotlib.legend.Legend at 0x7fe4301a5fd0>"
      ]
     },
     "execution_count": 25,
     "metadata": {},
     "output_type": "execute_result"
    },
    {
     "data": {
      "image/png": "[encoded data removed]",
      "text/plain": [
       "<Figure size 432x288 with 1 Axes>"
      ]
     },
     "metadata": {
      "needs_background": "light"
     },
     "output_type": "display_data"
    }
   ],
   "source": [
    "forcast_days = 200\n",
    "forcast_data = list(x_forcast.values)\n",
    "time_index = list(x_forcast.index)\n",
    "\n",
    "for day in range(forcast_days):\n",
    "    x = np.array(forcast_data[day:day+window_size])[np.newaxis]\n",
    "    y_hat = model.predict(x)\n",
    "    forcast_data.append(int(y_hat))\n",
    "    time_index.append(time_index[-1]+1)\n",
    "\n",
    "\n",
    "plt.plot(x_train, label=\"train\")\n",
    "plt.plot(x_valid, label=\"valid\")\n",
    "plt.plot(time_index, forcast_data, label=\"forcast_pred\")\n",
    "plt.legend()    \n"
   ]
  },
  {
   "cell_type": "code",
   "execution_count": 26,
   "metadata": {},
   "outputs": [
    {
     "data": {
      "text/plain": [
       "<matplotlib.legend.Legend at 0x7fe3e47c0d90>"
      ]
     },
     "execution_count": 26,
     "metadata": {},
     "output_type": "execute_result"
    },
    {
     "data": {
      "image/png": "[encoded data removed]",
      "text/plain": [
       "<Figure size 432x288 with 1 Axes>"
      ]
     },
     "metadata": {
      "needs_background": "light"
     },
     "output_type": "display_data"
    }
   ],
   "source": [
    "plt.plot(x_train, label=\"train\")\n",
    "plt.plot(x_valid, label=\"valid\")\n",
    "plt.plot(time_index[-forcast_days:], forcast_data[-forcast_days:], label=\"forcast_pred\")\n",
    "plt.xlim([2300,None])\n",
    "plt.legend()  "
   ]
  },
  {
   "cell_type": "code",
   "execution_count": null,
   "metadata": {},
   "outputs": [],
   "source": []
  }
 ],
 "metadata": {
  "kernelspec": {
   "display_name": "Python 3",
   "language": "python",
   "name": "python3"
  },
  "language_info": {
   "codemirror_mode": {
    "name": "ipython",
    "version": 3
   },
   "file_extension": ".py",
   "mimetype": "text/x-python",
   "name": "python",
   "nbconvert_exporter": "python",
   "pygments_lexer": "ipython3",
   "version": "3.7.6"
  }
 },
 "nbformat": 4,
 "nbformat_minor": 4
}
