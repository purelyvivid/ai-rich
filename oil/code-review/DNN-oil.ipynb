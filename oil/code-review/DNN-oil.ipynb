{
 "cells": [
  {
   "cell_type": "code",
   "execution_count": null,
   "metadata": {},
   "outputs": [],
   "source": [
    "cp -r ~/datasets/meetup/backup/CrudeOil ../"
   ]
  },
  {
   "cell_type": "code",
   "execution_count": 1,
   "metadata": {},
   "outputs": [
    {
     "name": "stdout",
     "output_type": "stream",
     "text": [
      "2.4.1\n"
     ]
    }
   ],
   "source": [
    "import tensorflow as tf\n",
    "import numpy as np\n",
    "import pandas as pd\n",
    "import matplotlib.pyplot as plt\n",
    "print(tf.__version__)"
   ]
  },
  {
   "cell_type": "markdown",
   "metadata": {},
   "source": [
    "# Load Data"
   ]
  },
  {
   "cell_type": "code",
   "execution_count": 2,
   "metadata": {},
   "outputs": [
    {
     "data": {
      "text/plain": [
       "(2517, 7)"
      ]
     },
     "execution_count": 2,
     "metadata": {},
     "output_type": "execute_result"
    }
   ],
   "source": [
    "data = pd.read_csv(\"../CrudeOil/CL=F_daily.csv\")\n",
    "data.shape"
   ]
  },
  {
   "cell_type": "code",
   "execution_count": 3,
   "metadata": {},
   "outputs": [
    {
     "data": {
      "text/html": [
       "<div>\n",
       "<style scoped>\n",
       "    .dataframe tbody tr th:only-of-type {\n",
       "        vertical-align: middle;\n",
       "    }\n",
       "\n",
       "    .dataframe tbody tr th {\n",
       "        vertical-align: top;\n",
       "    }\n",
       "\n",
       "    .dataframe thead th {\n",
       "        text-align: right;\n",
       "    }\n",
       "</style>\n",
       "<table border=\"1\" class=\"dataframe\">\n",
       "  <thead>\n",
       "    <tr style=\"text-align: right;\">\n",
       "      <th></th>\n",
       "      <th>Date</th>\n",
       "      <th>Open</th>\n",
       "      <th>High</th>\n",
       "      <th>Low</th>\n",
       "      <th>Close</th>\n",
       "      <th>Adj Close</th>\n",
       "      <th>Volume</th>\n",
       "    </tr>\n",
       "  </thead>\n",
       "  <tbody>\n",
       "    <tr>\n",
       "      <th>0</th>\n",
       "      <td>2011-04-25</td>\n",
       "      <td>112.339996</td>\n",
       "      <td>113.480003</td>\n",
       "      <td>111.080002</td>\n",
       "      <td>112.279999</td>\n",
       "      <td>112.279999</td>\n",
       "      <td>209683.0</td>\n",
       "    </tr>\n",
       "    <tr>\n",
       "      <th>1</th>\n",
       "      <td>2011-04-26</td>\n",
       "      <td>112.150002</td>\n",
       "      <td>112.639999</td>\n",
       "      <td>111.120003</td>\n",
       "      <td>112.209999</td>\n",
       "      <td>112.209999</td>\n",
       "      <td>234441.0</td>\n",
       "    </tr>\n",
       "    <tr>\n",
       "      <th>2</th>\n",
       "      <td>2011-04-27</td>\n",
       "      <td>111.889999</td>\n",
       "      <td>113.400002</td>\n",
       "      <td>110.709999</td>\n",
       "      <td>112.760002</td>\n",
       "      <td>112.760002</td>\n",
       "      <td>338697.0</td>\n",
       "    </tr>\n",
       "    <tr>\n",
       "      <th>3</th>\n",
       "      <td>2011-04-28</td>\n",
       "      <td>113.129997</td>\n",
       "      <td>113.970001</td>\n",
       "      <td>111.690002</td>\n",
       "      <td>112.860001</td>\n",
       "      <td>112.860001</td>\n",
       "      <td>301604.0</td>\n",
       "    </tr>\n",
       "    <tr>\n",
       "      <th>4</th>\n",
       "      <td>2011-04-29</td>\n",
       "      <td>112.820000</td>\n",
       "      <td>114.180000</td>\n",
       "      <td>112.250000</td>\n",
       "      <td>113.930000</td>\n",
       "      <td>113.930000</td>\n",
       "      <td>201831.0</td>\n",
       "    </tr>\n",
       "  </tbody>\n",
       "</table>\n",
       "</div>"
      ],
      "text/plain": [
       "         Date        Open        High         Low       Close   Adj Close  \\\n",
       "0  2011-04-25  112.339996  113.480003  111.080002  112.279999  112.279999   \n",
       "1  2011-04-26  112.150002  112.639999  111.120003  112.209999  112.209999   \n",
       "2  2011-04-27  111.889999  113.400002  110.709999  112.760002  112.760002   \n",
       "3  2011-04-28  113.129997  113.970001  111.690002  112.860001  112.860001   \n",
       "4  2011-04-29  112.820000  114.180000  112.250000  113.930000  113.930000   \n",
       "\n",
       "     Volume  \n",
       "0  209683.0  \n",
       "1  234441.0  \n",
       "2  338697.0  \n",
       "3  301604.0  \n",
       "4  201831.0  "
      ]
     },
     "execution_count": 3,
     "metadata": {},
     "output_type": "execute_result"
    }
   ],
   "source": [
    "data.head()"
   ]
  },
  {
   "cell_type": "markdown",
   "metadata": {},
   "source": [
    "# Remove NaN"
   ]
  },
  {
   "cell_type": "code",
   "execution_count": 4,
   "metadata": {},
   "outputs": [
    {
     "data": {
      "text/plain": [
       "<matplotlib.axes._subplots.AxesSubplot at 0x7fc25104dc50>"
      ]
     },
     "execution_count": 4,
     "metadata": {},
     "output_type": "execute_result"
    },
    {
     "data": {
      "image/png": "[encoded data removed]",
      "text/plain": [
       "<Figure size 432x288 with 1 Axes>"
      ]
     },
     "metadata": {
      "needs_background": "light"
     },
     "output_type": "display_data"
    }
   ],
   "source": [
    "data.Close.plot()"
   ]
  },
  {
   "cell_type": "code",
   "execution_count": 5,
   "metadata": {},
   "outputs": [
    {
     "data": {
      "text/plain": [
       "23"
      ]
     },
     "execution_count": 5,
     "metadata": {},
     "output_type": "execute_result"
    }
   ],
   "source": [
    "pd.isna(data.Close).sum()"
   ]
  },
  {
   "cell_type": "code",
   "execution_count": 6,
   "metadata": {},
   "outputs": [
    {
     "name": "stdout",
     "output_type": "stream",
     "text": [
      "(2494,)\n"
     ]
    }
   ],
   "source": [
    "series = data.Close[~pd.isna(data.Close)]\n",
    "time_str = data.Date[~pd.isna(data.Close)]\n",
    "print(series.shape)"
   ]
  },
  {
   "cell_type": "markdown",
   "metadata": {},
   "source": [
    "# Define Param"
   ]
  },
  {
   "cell_type": "code",
   "execution_count": 7,
   "metadata": {},
   "outputs": [],
   "source": [
    "window_size = 14\n",
    "delay = 10"
   ]
  },
  {
   "cell_type": "markdown",
   "metadata": {},
   "source": [
    "# Split Train/Valid"
   ]
  },
  {
   "cell_type": "code",
   "execution_count": 8,
   "metadata": {},
   "outputs": [
    {
     "name": "stdout",
     "output_type": "stream",
     "text": [
      "split_time_str:  2020-11-19\n"
     ]
    }
   ],
   "source": [
    "train_ratio = 0.95\n",
    "split_time = int(len(data)*train_ratio)\n",
    "print(\"split_time_str: \", time_str.iloc[split_time])"
   ]
  },
  {
   "cell_type": "code",
   "execution_count": 9,
   "metadata": {},
   "outputs": [
    {
     "name": "stdout",
     "output_type": "stream",
     "text": [
      "(2391,) (127,) (14,)\n"
     ]
    }
   ],
   "source": [
    "x_train = series[:split_time]\n",
    "x_valid = series[split_time-(window_size+delay):]\n",
    "x_forcast = series[-window_size:]\n",
    "print(x_train.shape, x_valid.shape, x_forcast.shape)"
   ]
  },
  {
   "cell_type": "code",
   "execution_count": 10,
   "metadata": {},
   "outputs": [
    {
     "data": {
      "text/plain": [
       "<matplotlib.legend.Legend at 0x7fc24ee98f90>"
      ]
     },
     "execution_count": 10,
     "metadata": {},
     "output_type": "execute_result"
    },
    {
     "data": {
      "image/png": "[encoded data removed]",
      "text/plain": [
       "<Figure size 432x288 with 1 Axes>"
      ]
     },
     "metadata": {
      "needs_background": "light"
     },
     "output_type": "display_data"
    }
   ],
   "source": [
    "plt.plot(x_train, label=\"train\")\n",
    "plt.plot(x_valid, label=\"valid\")\n",
    "plt.plot(x_forcast, label=\"forcast\")\n",
    "plt.legend()"
   ]
  },
  {
   "cell_type": "markdown",
   "metadata": {},
   "source": [
    "# Prepare Windowed Data"
   ]
  },
  {
   "cell_type": "code",
   "execution_count": 11,
   "metadata": {},
   "outputs": [],
   "source": [
    "def windowed_dataset(series, window_size, batch_size, shuffle_buffer, delay=1, train=True):\n",
    "    dataset = tf.data.Dataset.from_tensor_slices(series)\n",
    "    dataset = dataset.window(window_size + delay, shift=1, drop_remainder=True)\n",
    "    dataset = dataset.flat_map(lambda window: window.batch(window_size + delay))\n",
    "    if train:\n",
    "        dataset = dataset.shuffle(shuffle_buffer)\n",
    "    dataset = dataset.map(lambda window: (window[:window_size], window[-1]))\n",
    "    dataset = dataset.batch(batch_size).prefetch(1)  \n",
    "    return dataset"
   ]
  },
  {
   "cell_type": "code",
   "execution_count": 12,
   "metadata": {},
   "outputs": [],
   "source": [
    "tf.keras.backend.clear_session()\n",
    "tf.random.set_seed(51)\n",
    "np.random.seed(51)"
   ]
  },
  {
   "cell_type": "code",
   "execution_count": 13,
   "metadata": {},
   "outputs": [
    {
     "name": "stdout",
     "output_type": "stream",
     "text": [
      "(2367,) (103,)\n"
     ]
    }
   ],
   "source": [
    "batch_size = 32\n",
    "shuffle_buffer_size = 1000\n",
    "\n",
    "time_str_train = time_str[(window_size+delay):split_time]\n",
    "time_str_valid = time_str[split_time:]\n",
    "print(time_str_train.shape, time_str_valid.shape)\n",
    "\n",
    "train_set = windowed_dataset(x_train, window_size, batch_size=128, shuffle_buffer=shuffle_buffer_size, delay=delay)\n",
    "valid_set = windowed_dataset(x_valid, window_size, batch_size=128, shuffle_buffer=shuffle_buffer_size, delay=delay, train=False)"
   ]
  },
  {
   "cell_type": "code",
   "execution_count": 14,
   "metadata": {},
   "outputs": [
    {
     "name": "stdout",
     "output_type": "stream",
     "text": [
      "x.shape:  (128, 14) , y.shape:  (128,)\n",
      "#records:  2368\n",
      "x.shape:  (104, 14) , y.shape:  (104,)\n",
      "#records:  104\n"
     ]
    }
   ],
   "source": [
    "def check_data(dataset):\n",
    "    count=0\n",
    "    for i,(x,y) in enumerate(dataset):\n",
    "        count+=x.shape[0]\n",
    "        if i==0:\n",
    "            print(\"x.shape: \", x.shape, \", y.shape: \", y.shape)\n",
    "    print(\"#records: \", count)\n",
    "    \n",
    "check_data(train_set)\n",
    "check_data(valid_set)"
   ]
  },
  {
   "cell_type": "markdown",
   "metadata": {},
   "source": [
    "# Train Model"
   ]
  },
  {
   "cell_type": "code",
   "execution_count": 27,
   "metadata": {},
   "outputs": [],
   "source": [
    "model = tf.keras.models.Sequential([\n",
    "    tf.keras.layers.Dense(10, input_shape=[window_size], activation=\"relu\"), \n",
    "    tf.keras.layers.Dense(10, activation=\"relu\"), \n",
    "    tf.keras.layers.Dense(1)\n",
    "])"
   ]
  },
  {
   "cell_type": "code",
   "execution_count": 28,
   "metadata": {},
   "outputs": [
    {
     "name": "stdout",
     "output_type": "stream",
     "text": [
      "Epoch 1/20\n",
      "19/19 [==============================] - 1s 22ms/step - loss: 74.5428 - mae: 74.5428 - val_loss: 41.3772 - val_mae: 41.3772\n",
      "Epoch 2/20\n",
      "19/19 [==============================] - 0s 19ms/step - loss: 45.3378 - mae: 45.3378 - val_loss: 11.7705 - val_mae: 11.7705\n",
      "Epoch 3/20\n",
      "19/19 [==============================] - 0s 19ms/step - loss: 7.6727 - mae: 7.6727 - val_loss: 4.5386 - val_mae: 4.5386\n",
      "Epoch 4/20\n",
      "19/19 [==============================] - 0s 19ms/step - loss: 4.5507 - mae: 4.5507 - val_loss: 4.1935 - val_mae: 4.1935\n",
      "Epoch 5/20\n",
      "19/19 [==============================] - 0s 22ms/step - loss: 4.5187 - mae: 4.5187 - val_loss: 4.8647 - val_mae: 4.8647\n",
      "Epoch 6/20\n",
      "19/19 [==============================] - 0s 13ms/step - loss: 4.3216 - mae: 4.3216 - val_loss: 4.4671 - val_mae: 4.4671\n",
      "Epoch 7/20\n",
      "19/19 [==============================] - 0s 19ms/step - loss: 4.3227 - mae: 4.3227 - val_loss: 4.4233 - val_mae: 4.4233\n",
      "Epoch 8/20\n",
      "19/19 [==============================] - 0s 13ms/step - loss: 4.4010 - mae: 4.4010 - val_loss: 4.2886 - val_mae: 4.2886\n",
      "Epoch 9/20\n",
      "19/19 [==============================] - 0s 13ms/step - loss: 4.4044 - mae: 4.4044 - val_loss: 4.1737 - val_mae: 4.1737\n",
      "Epoch 10/20\n",
      "19/19 [==============================] - 0s 16ms/step - loss: 4.3759 - mae: 4.3759 - val_loss: 4.4551 - val_mae: 4.4551\n",
      "Epoch 11/20\n",
      "19/19 [==============================] - 0s 13ms/step - loss: 4.2922 - mae: 4.2922 - val_loss: 4.4886 - val_mae: 4.4886\n",
      "Epoch 12/20\n",
      "19/19 [==============================] - 0s 17ms/step - loss: 4.2637 - mae: 4.2637 - val_loss: 4.5323 - val_mae: 4.5323\n",
      "Epoch 13/20\n",
      "19/19 [==============================] - 0s 18ms/step - loss: 4.2872 - mae: 4.2872 - val_loss: 4.5433 - val_mae: 4.5433\n",
      "Epoch 14/20\n",
      "19/19 [==============================] - 1s 22ms/step - loss: 4.2911 - mae: 4.2911 - val_loss: 4.3851 - val_mae: 4.3851\n",
      "Epoch 15/20\n",
      "19/19 [==============================] - 0s 21ms/step - loss: 4.3522 - mae: 4.3522 - val_loss: 4.5363 - val_mae: 4.5363\n",
      "Epoch 16/20\n",
      "19/19 [==============================] - 0s 20ms/step - loss: 4.3292 - mae: 4.3292 - val_loss: 4.2813 - val_mae: 4.2813\n",
      "Epoch 17/20\n",
      "19/19 [==============================] - 0s 20ms/step - loss: 4.2729 - mae: 4.2729 - val_loss: 4.4455 - val_mae: 4.4455\n",
      "Epoch 18/20\n",
      "19/19 [==============================] - 0s 15ms/step - loss: 4.2554 - mae: 4.2554 - val_loss: 4.4048 - val_mae: 4.4048\n",
      "Epoch 19/20\n",
      "19/19 [==============================] - 0s 20ms/step - loss: 4.1560 - mae: 4.1560 - val_loss: 4.1926 - val_mae: 4.1926\n",
      "Epoch 20/20\n",
      "19/19 [==============================] - 0s 21ms/step - loss: 4.3138 - mae: 4.3138 - val_loss: 4.4114 - val_mae: 4.4114\n"
     ]
    }
   ],
   "source": [
    "optimizer = tf.keras.optimizers.Adam(lr=1e-3)\n",
    "model.compile(loss=tf.keras.losses.MeanAbsoluteError(),\n",
    "              optimizer=optimizer,\n",
    "              metrics=[\"mae\"])\n",
    "history = model.fit(train_set, validation_data=valid_set, epochs=20)"
   ]
  },
  {
   "cell_type": "markdown",
   "metadata": {},
   "source": [
    "# Validation"
   ]
  },
  {
   "cell_type": "code",
   "execution_count": 29,
   "metadata": {},
   "outputs": [
    {
     "data": {
      "text/plain": [
       "<matplotlib.legend.Legend at 0x7fc1b056ca10>"
      ]
     },
     "execution_count": 29,
     "metadata": {},
     "output_type": "execute_result"
    },
    {
     "data": {
      "image/png": "[encoded data removed]",
      "text/plain": [
       "<Figure size 432x288 with 1 Axes>"
      ]
     },
     "metadata": {
      "needs_background": "light"
     },
     "output_type": "display_data"
    }
   ],
   "source": [
    "y_true = []\n",
    "y_pred = []\n",
    "\n",
    "for x,y in valid_set:\n",
    "    #print(x.shape, y.shape)\n",
    "    y_hat = model.predict(x)\n",
    "    #print(y_hat.shape, y_hat.dtype)\n",
    "    y_true += list(y)\n",
    "    y_pred = list(y_hat)\n",
    "\n",
    "time_index = list(x_valid[window_size+delay-1:].index)\n",
    "plt.plot(time_index, y_true, label=\"valid_true\",c=\"orange\")\n",
    "plt.plot(time_index, y_pred, label=\"valid_pred\",c=\"red\")\n",
    "plt.legend()"
   ]
  },
  {
   "cell_type": "code",
   "execution_count": 30,
   "metadata": {},
   "outputs": [
    {
     "data": {
      "text/plain": [
       "2412    2020-11-19\n",
       "2413    2020-11-20\n",
       "2414    2020-11-23\n",
       "2415    2020-11-24\n",
       "2416    2020-11-25\n",
       "           ...    \n",
       "2512    2021-04-16\n",
       "2513    2021-04-19\n",
       "2514    2021-04-20\n",
       "2515    2021-04-21\n",
       "2516    2021-04-22\n",
       "Name: Date, Length: 103, dtype: object"
      ]
     },
     "execution_count": 30,
     "metadata": {},
     "output_type": "execute_result"
    }
   ],
   "source": [
    "time_str_valid"
   ]
  },
  {
   "cell_type": "markdown",
   "metadata": {},
   "source": [
    "# Forecast"
   ]
  },
  {
   "cell_type": "code",
   "execution_count": 31,
   "metadata": {},
   "outputs": [
    {
     "data": {
      "text/plain": [
       "<matplotlib.legend.Legend at 0x7fc24030b390>"
      ]
     },
     "execution_count": 31,
     "metadata": {},
     "output_type": "execute_result"
    },
    {
     "data": {
      "image/png": "[encoded data removed]",
      "text/plain": [
       "<Figure size 432x288 with 1 Axes>"
      ]
     },
     "metadata": {
      "needs_background": "light"
     },
     "output_type": "display_data"
    }
   ],
   "source": [
    "forcast_days = 200\n",
    "forcast_data = list(x_forcast.values)\n",
    "time_index = list(x_forcast.index)\n",
    "\n",
    "for day in range(forcast_days):\n",
    "    x = np.array(forcast_data[day:day+window_size])[np.newaxis]\n",
    "    y_hat = model.predict(x)\n",
    "    forcast_data.append(int(y_hat))\n",
    "    time_index.append(time_index[-1]+1)\n",
    "\n",
    "\n",
    "plt.plot(x_train, label=\"train\")\n",
    "plt.plot(x_valid, label=\"valid\")\n",
    "plt.plot(time_index, forcast_data, label=\"forcast_pred\")\n",
    "plt.legend()    \n"
   ]
  },
  {
   "cell_type": "code",
   "execution_count": 32,
   "metadata": {},
   "outputs": [
    {
     "data": {
      "text/plain": [
       "<matplotlib.legend.Legend at 0x7fc240551090>"
      ]
     },
     "execution_count": 32,
     "metadata": {},
     "output_type": "execute_result"
    },
    {
     "data": {
      "image/png": "[encoded data removed]",
      "text/plain": [
       "<Figure size 432x288 with 1 Axes>"
      ]
     },
     "metadata": {
      "needs_background": "light"
     },
     "output_type": "display_data"
    }
   ],
   "source": [
    "plt.plot(x_train, label=\"train\")\n",
    "plt.plot(x_valid, label=\"valid\")\n",
    "plt.plot(time_index[-forcast_days:], forcast_data[-forcast_days:], label=\"forcast_pred\")\n",
    "plt.xlim([2300,None])\n",
    "plt.legend()  "
   ]
  },
  {
   "cell_type": "code",
   "execution_count": null,
   "metadata": {},
   "outputs": [],
   "source": []
  }
 ],
 "metadata": {
  "kernelspec": {
   "display_name": "Python 3",
   "language": "python",
   "name": "python3"
  },
  "language_info": {
   "codemirror_mode": {
    "name": "ipython",
    "version": 3
   },
   "file_extension": ".py",
   "mimetype": "text/x-python",
   "name": "python",
   "nbconvert_exporter": "python",
   "pygments_lexer": "ipython3",
   "version": "3.7.10"
  }
 },
 "nbformat": 4,
 "nbformat_minor": 4
}
