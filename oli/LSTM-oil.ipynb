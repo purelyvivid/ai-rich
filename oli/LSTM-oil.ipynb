{
 "cells": [
  {
   "cell_type": "code",
   "execution_count": null,
   "metadata": {},
   "outputs": [],
   "source": [
    "cp -r ~/datasets/meetup/backup/CrudeOil ."
   ]
  },
  {
   "cell_type": "code",
   "execution_count": 1,
   "metadata": {},
   "outputs": [
    {
     "name": "stdout",
     "output_type": "stream",
     "text": [
      "2.1.0\n"
     ]
    }
   ],
   "source": [
    "import tensorflow as tf\n",
    "import numpy as np\n",
    "import pandas as pd\n",
    "import matplotlib.pyplot as plt\n",
    "print(tf.__version__)"
   ]
  },
  {
   "cell_type": "markdown",
   "metadata": {},
   "source": [
    "# Load Data"
   ]
  },
  {
   "cell_type": "code",
   "execution_count": 2,
   "metadata": {},
   "outputs": [
    {
     "data": {
      "text/plain": [
       "(2517, 7)"
      ]
     },
     "execution_count": 2,
     "metadata": {},
     "output_type": "execute_result"
    }
   ],
   "source": [
    "data = pd.read_csv(\"CrudeOil/CL=F_daily.csv\")\n",
    "data.shape"
   ]
  },
  {
   "cell_type": "code",
   "execution_count": 3,
   "metadata": {},
   "outputs": [
    {
     "data": {
      "text/html": [
       "<div>\n",
       "<style scoped>\n",
       "    .dataframe tbody tr th:only-of-type {\n",
       "        vertical-align: middle;\n",
       "    }\n",
       "\n",
       "    .dataframe tbody tr th {\n",
       "        vertical-align: top;\n",
       "    }\n",
       "\n",
       "    .dataframe thead th {\n",
       "        text-align: right;\n",
       "    }\n",
       "</style>\n",
       "<table border=\"1\" class=\"dataframe\">\n",
       "  <thead>\n",
       "    <tr style=\"text-align: right;\">\n",
       "      <th></th>\n",
       "      <th>Date</th>\n",
       "      <th>Open</th>\n",
       "      <th>High</th>\n",
       "      <th>Low</th>\n",
       "      <th>Close</th>\n",
       "      <th>Adj Close</th>\n",
       "      <th>Volume</th>\n",
       "    </tr>\n",
       "  </thead>\n",
       "  <tbody>\n",
       "    <tr>\n",
       "      <th>0</th>\n",
       "      <td>2011-04-25</td>\n",
       "      <td>112.339996</td>\n",
       "      <td>113.480003</td>\n",
       "      <td>111.080002</td>\n",
       "      <td>112.279999</td>\n",
       "      <td>112.279999</td>\n",
       "      <td>209683.0</td>\n",
       "    </tr>\n",
       "    <tr>\n",
       "      <th>1</th>\n",
       "      <td>2011-04-26</td>\n",
       "      <td>112.150002</td>\n",
       "      <td>112.639999</td>\n",
       "      <td>111.120003</td>\n",
       "      <td>112.209999</td>\n",
       "      <td>112.209999</td>\n",
       "      <td>234441.0</td>\n",
       "    </tr>\n",
       "    <tr>\n",
       "      <th>2</th>\n",
       "      <td>2011-04-27</td>\n",
       "      <td>111.889999</td>\n",
       "      <td>113.400002</td>\n",
       "      <td>110.709999</td>\n",
       "      <td>112.760002</td>\n",
       "      <td>112.760002</td>\n",
       "      <td>338697.0</td>\n",
       "    </tr>\n",
       "    <tr>\n",
       "      <th>3</th>\n",
       "      <td>2011-04-28</td>\n",
       "      <td>113.129997</td>\n",
       "      <td>113.970001</td>\n",
       "      <td>111.690002</td>\n",
       "      <td>112.860001</td>\n",
       "      <td>112.860001</td>\n",
       "      <td>301604.0</td>\n",
       "    </tr>\n",
       "    <tr>\n",
       "      <th>4</th>\n",
       "      <td>2011-04-29</td>\n",
       "      <td>112.820000</td>\n",
       "      <td>114.180000</td>\n",
       "      <td>112.250000</td>\n",
       "      <td>113.930000</td>\n",
       "      <td>113.930000</td>\n",
       "      <td>201831.0</td>\n",
       "    </tr>\n",
       "  </tbody>\n",
       "</table>\n",
       "</div>"
      ],
      "text/plain": [
       "         Date        Open        High         Low       Close   Adj Close  \\\n",
       "0  2011-04-25  112.339996  113.480003  111.080002  112.279999  112.279999   \n",
       "1  2011-04-26  112.150002  112.639999  111.120003  112.209999  112.209999   \n",
       "2  2011-04-27  111.889999  113.400002  110.709999  112.760002  112.760002   \n",
       "3  2011-04-28  113.129997  113.970001  111.690002  112.860001  112.860001   \n",
       "4  2011-04-29  112.820000  114.180000  112.250000  113.930000  113.930000   \n",
       "\n",
       "     Volume  \n",
       "0  209683.0  \n",
       "1  234441.0  \n",
       "2  338697.0  \n",
       "3  301604.0  \n",
       "4  201831.0  "
      ]
     },
     "execution_count": 3,
     "metadata": {},
     "output_type": "execute_result"
    }
   ],
   "source": [
    "data.head()"
   ]
  },
  {
   "cell_type": "markdown",
   "metadata": {},
   "source": [
    "# Remove NaN"
   ]
  },
  {
   "cell_type": "code",
   "execution_count": 4,
   "metadata": {},
   "outputs": [
    {
     "data": {
      "text/plain": [
       "<matplotlib.axes._subplots.AxesSubplot at 0x7f875e8a6d90>"
      ]
     },
     "execution_count": 4,
     "metadata": {},
     "output_type": "execute_result"
    },
    {
     "data": {
      "image/png": "[encoded data removed]",
      "text/plain": [
       "<Figure size 432x288 with 1 Axes>"
      ]
     },
     "metadata": {
      "needs_background": "light"
     },
     "output_type": "display_data"
    }
   ],
   "source": [
    "data.Close.plot()"
   ]
  },
  {
   "cell_type": "code",
   "execution_count": 5,
   "metadata": {},
   "outputs": [
    {
     "data": {
      "text/plain": [
       "23"
      ]
     },
     "execution_count": 5,
     "metadata": {},
     "output_type": "execute_result"
    }
   ],
   "source": [
    "pd.isna(data.Close).sum()"
   ]
  },
  {
   "cell_type": "code",
   "execution_count": 6,
   "metadata": {},
   "outputs": [
    {
     "name": "stdout",
     "output_type": "stream",
     "text": [
      "(2494,)\n"
     ]
    }
   ],
   "source": [
    "series = data.Close[~pd.isna(data.Close)]\n",
    "time_str = data.Date[~pd.isna(data.Close)]\n",
    "print(series.shape)"
   ]
  },
  {
   "cell_type": "markdown",
   "metadata": {},
   "source": [
    "# Define Param"
   ]
  },
  {
   "cell_type": "code",
   "execution_count": 7,
   "metadata": {},
   "outputs": [],
   "source": [
    "window_size = 14\n",
    "delay = 10"
   ]
  },
  {
   "cell_type": "markdown",
   "metadata": {},
   "source": [
    "# Split Train/Valid"
   ]
  },
  {
   "cell_type": "code",
   "execution_count": 8,
   "metadata": {},
   "outputs": [
    {
     "name": "stdout",
     "output_type": "stream",
     "text": [
      "split_time_str:  2020-11-19\n"
     ]
    }
   ],
   "source": [
    "train_ratio = 0.95\n",
    "split_time = int(len(data)*train_ratio)\n",
    "print(\"split_time_str: \", time_str.iloc[split_time])"
   ]
  },
  {
   "cell_type": "code",
   "execution_count": 9,
   "metadata": {},
   "outputs": [
    {
     "name": "stdout",
     "output_type": "stream",
     "text": [
      "(2391,) (127,) (14,)\n"
     ]
    }
   ],
   "source": [
    "x_train = series[:split_time]\n",
    "x_valid = series[split_time-(window_size+delay):]\n",
    "x_forcast = series[-window_size:]\n",
    "print(x_train.shape, x_valid.shape, x_forcast.shape)"
   ]
  },
  {
   "cell_type": "code",
   "execution_count": 10,
   "metadata": {},
   "outputs": [
    {
     "data": {
      "text/plain": [
       "<matplotlib.legend.Legend at 0x7f875c75db10>"
      ]
     },
     "execution_count": 10,
     "metadata": {},
     "output_type": "execute_result"
    },
    {
     "data": {
      "image/png": "[encoded data removed]",
      "text/plain": [
       "<Figure size 432x288 with 1 Axes>"
      ]
     },
     "metadata": {
      "needs_background": "light"
     },
     "output_type": "display_data"
    }
   ],
   "source": [
    "plt.plot(x_train, label=\"train\")\n",
    "plt.plot(x_valid, label=\"valid\")\n",
    "plt.plot(x_forcast, label=\"forcast\")\n",
    "plt.legend()"
   ]
  },
  {
   "cell_type": "markdown",
   "metadata": {},
   "source": [
    "# Prepare Windowed Data"
   ]
  },
  {
   "cell_type": "code",
   "execution_count": 11,
   "metadata": {},
   "outputs": [],
   "source": [
    "def windowed_dataset(series, window_size, batch_size, shuffle_buffer, delay=1, train=True):\n",
    "    dataset = tf.data.Dataset.from_tensor_slices(series)\n",
    "    dataset = dataset.window(window_size + delay, shift=1, drop_remainder=True)\n",
    "    dataset = dataset.flat_map(lambda window: window.batch(window_size + delay))\n",
    "    if train:\n",
    "        dataset = dataset.shuffle(shuffle_buffer)\n",
    "    dataset = dataset.map(lambda window: (window[:window_size], window[-1]))\n",
    "    dataset = dataset.batch(batch_size).prefetch(1)  \n",
    "    return dataset"
   ]
  },
  {
   "cell_type": "code",
   "execution_count": 12,
   "metadata": {},
   "outputs": [],
   "source": [
    "tf.keras.backend.clear_session()\n",
    "tf.random.set_seed(51)\n",
    "np.random.seed(51)"
   ]
  },
  {
   "cell_type": "code",
   "execution_count": 13,
   "metadata": {},
   "outputs": [
    {
     "name": "stdout",
     "output_type": "stream",
     "text": [
      "(2367,) (103,)\n"
     ]
    }
   ],
   "source": [
    "batch_size = 32\n",
    "shuffle_buffer_size = 1000\n",
    "\n",
    "time_str_train = time_str[(window_size+delay):split_time]\n",
    "time_str_valid = time_str[split_time:]\n",
    "print(time_str_train.shape, time_str_valid.shape)\n",
    "\n",
    "train_set = windowed_dataset(x_train, window_size, batch_size=128, shuffle_buffer=shuffle_buffer_size, delay=delay)\n",
    "valid_set = windowed_dataset(x_valid, window_size, batch_size=128, shuffle_buffer=shuffle_buffer_size, delay=delay, train=False)"
   ]
  },
  {
   "cell_type": "code",
   "execution_count": 14,
   "metadata": {},
   "outputs": [
    {
     "name": "stdout",
     "output_type": "stream",
     "text": [
      "x.shape:  (128, 14) , y.shape:  (128,)\n",
      "#records:  2368\n",
      "x.shape:  (104, 14) , y.shape:  (104,)\n",
      "#records:  104\n"
     ]
    }
   ],
   "source": [
    "def check_data(dataset):\n",
    "    count=0\n",
    "    for i,(x,y) in enumerate(dataset):\n",
    "        count+=x.shape[0]\n",
    "        if i==0:\n",
    "            print(\"x.shape: \", x.shape, \", y.shape: \", y.shape)\n",
    "    print(\"#records: \", count)\n",
    "    \n",
    "check_data(train_set)\n",
    "check_data(valid_set)"
   ]
  },
  {
   "cell_type": "markdown",
   "metadata": {},
   "source": [
    "# Train Model"
   ]
  },
  {
   "cell_type": "code",
   "execution_count": 15,
   "metadata": {},
   "outputs": [],
   "source": [
    "model = tf.keras.models.Sequential([\n",
    "  tf.keras.layers.Lambda(lambda x: tf.expand_dims(x, axis=-1),\n",
    "                      input_shape=[None]),\n",
    "  tf.keras.layers.Lambda(lambda x: x / 100.0),\n",
    "  tf.keras.layers.LSTM(40, return_sequences=True),\n",
    "  tf.keras.layers.LSTM(40),\n",
    "  tf.keras.layers.Dense(1),\n",
    "  tf.keras.layers.Lambda(lambda x: x * 100.0),\n",
    "  tf.keras.layers.Lambda(lambda x: tf.squeeze(x, axis=-1) ),\n",
    "])"
   ]
  },
  {
   "cell_type": "code",
   "execution_count": 17,
   "metadata": {},
   "outputs": [
    {
     "name": "stdout",
     "output_type": "stream",
     "text": [
      "Epoch 1/100\n",
      "19/19 [==============================] - 4s 230ms/step - loss: 15.0235 - mae: 15.5038 - val_loss: 1.9775 - val_mae: 2.4149\n",
      "Epoch 2/100\n",
      "19/19 [==============================] - 1s 31ms/step - loss: 6.0676 - mae: 6.5495 - val_loss: 2.4041 - val_mae: 2.8540\n",
      "Epoch 3/100\n",
      "19/19 [==============================] - 1s 27ms/step - loss: 5.4851 - mae: 5.9664 - val_loss: 2.4118 - val_mae: 2.8712\n",
      "Epoch 4/100\n",
      "19/19 [==============================] - 1s 33ms/step - loss: 5.4471 - mae: 5.9299 - val_loss: 5.3476 - val_mae: 5.8356\n",
      "Epoch 5/100\n",
      "19/19 [==============================] - 1s 31ms/step - loss: 5.2000 - mae: 5.6787 - val_loss: 2.0787 - val_mae: 2.5314\n",
      "Epoch 6/100\n",
      "19/19 [==============================] - 1s 34ms/step - loss: 5.1150 - mae: 5.5909 - val_loss: 4.2823 - val_mae: 4.7716\n",
      "Epoch 7/100\n",
      "19/19 [==============================] - 1s 33ms/step - loss: 5.1143 - mae: 5.5921 - val_loss: 2.2501 - val_mae: 2.7151\n",
      "Epoch 8/100\n",
      "19/19 [==============================] - 1s 31ms/step - loss: 5.0507 - mae: 5.5311 - val_loss: 8.0358 - val_mae: 8.5358\n",
      "Epoch 9/100\n",
      "19/19 [==============================] - 1s 34ms/step - loss: 4.6058 - mae: 5.0814 - val_loss: 2.4229 - val_mae: 2.8533\n",
      "Epoch 10/100\n",
      "19/19 [==============================] - 1s 32ms/step - loss: 5.0652 - mae: 5.5426 - val_loss: 2.6043 - val_mae: 3.0813\n",
      "Epoch 11/100\n",
      "19/19 [==============================] - 1s 34ms/step - loss: 4.8212 - mae: 5.2970 - val_loss: 4.4788 - val_mae: 4.9673\n",
      "Epoch 12/100\n",
      "19/19 [==============================] - 1s 32ms/step - loss: 4.9544 - mae: 5.4318 - val_loss: 3.2098 - val_mae: 3.7070\n",
      "Epoch 13/100\n",
      "19/19 [==============================] - 1s 33ms/step - loss: 4.7162 - mae: 5.1959 - val_loss: 2.0797 - val_mae: 2.5279\n",
      "Epoch 14/100\n",
      "19/19 [==============================] - 1s 31ms/step - loss: 4.8266 - mae: 5.3030 - val_loss: 6.0822 - val_mae: 6.5744\n",
      "Epoch 15/100\n",
      "19/19 [==============================] - 1s 32ms/step - loss: 4.6679 - mae: 5.1481 - val_loss: 2.1521 - val_mae: 2.6129\n",
      "Epoch 16/100\n",
      "19/19 [==============================] - 1s 33ms/step - loss: 4.6814 - mae: 5.1580 - val_loss: 7.9322 - val_mae: 8.4322\n",
      "Epoch 17/100\n",
      "19/19 [==============================] - 1s 34ms/step - loss: 4.7068 - mae: 5.1817 - val_loss: 4.7114 - val_mae: 5.1991\n",
      "Epoch 18/100\n",
      "19/19 [==============================] - 1s 34ms/step - loss: 4.5747 - mae: 5.0508 - val_loss: 2.0208 - val_mae: 2.4680\n",
      "Epoch 19/100\n",
      "19/19 [==============================] - 1s 34ms/step - loss: 4.7216 - mae: 5.1991 - val_loss: 6.4913 - val_mae: 6.9785\n",
      "Epoch 20/100\n",
      "19/19 [==============================] - 1s 32ms/step - loss: 4.4398 - mae: 4.9166 - val_loss: 3.0827 - val_mae: 3.5789\n",
      "Epoch 21/100\n",
      "19/19 [==============================] - 1s 34ms/step - loss: 4.3323 - mae: 4.8049 - val_loss: 4.5058 - val_mae: 4.9953\n",
      "Epoch 22/100\n",
      "19/19 [==============================] - 1s 32ms/step - loss: 4.5885 - mae: 5.0659 - val_loss: 2.3486 - val_mae: 2.8077\n",
      "Epoch 23/100\n",
      "19/19 [==============================] - 1s 33ms/step - loss: 4.5142 - mae: 4.9916 - val_loss: 6.8197 - val_mae: 7.3094\n",
      "Epoch 24/100\n",
      "19/19 [==============================] - 1s 34ms/step - loss: 4.5037 - mae: 4.9814 - val_loss: 4.2243 - val_mae: 4.7128\n",
      "Epoch 25/100\n",
      "19/19 [==============================] - 1s 31ms/step - loss: 4.1832 - mae: 4.6561 - val_loss: 2.3864 - val_mae: 2.8517\n",
      "Epoch 26/100\n",
      "19/19 [==============================] - 1s 32ms/step - loss: 4.3817 - mae: 4.8551 - val_loss: 3.7057 - val_mae: 4.1981\n",
      "Epoch 27/100\n",
      "19/19 [==============================] - 1s 31ms/step - loss: 4.2768 - mae: 4.7518 - val_loss: 2.0691 - val_mae: 2.5246\n",
      "Epoch 28/100\n",
      "19/19 [==============================] - 1s 33ms/step - loss: 4.4219 - mae: 4.8987 - val_loss: 4.0181 - val_mae: 4.5068\n",
      "Epoch 29/100\n",
      "19/19 [==============================] - 1s 33ms/step - loss: 4.0320 - mae: 4.5034 - val_loss: 3.8153 - val_mae: 4.3068\n",
      "Epoch 30/100\n",
      "19/19 [==============================] - 1s 34ms/step - loss: 4.5058 - mae: 4.9844 - val_loss: 4.4930 - val_mae: 4.9823\n",
      "Epoch 31/100\n",
      "19/19 [==============================] - 1s 34ms/step - loss: 4.1377 - mae: 4.6156 - val_loss: 4.7619 - val_mae: 5.2432\n",
      "Epoch 32/100\n",
      "19/19 [==============================] - 1s 34ms/step - loss: 4.3379 - mae: 4.8160 - val_loss: 1.9940 - val_mae: 2.4493\n",
      "Epoch 33/100\n",
      "19/19 [==============================] - 1s 34ms/step - loss: 4.1492 - mae: 4.6230 - val_loss: 4.5613 - val_mae: 5.0480\n",
      "Epoch 34/100\n",
      "19/19 [==============================] - 1s 33ms/step - loss: 4.3224 - mae: 4.7977 - val_loss: 2.4675 - val_mae: 2.9425\n",
      "Epoch 35/100\n",
      "19/19 [==============================] - 1s 36ms/step - loss: 4.1804 - mae: 4.6548 - val_loss: 4.8227 - val_mae: 5.3036\n",
      "Epoch 36/100\n",
      "19/19 [==============================] - 1s 34ms/step - loss: 3.9709 - mae: 4.4440 - val_loss: 3.1556 - val_mae: 3.6526\n",
      "Epoch 37/100\n",
      "19/19 [==============================] - 1s 35ms/step - loss: 4.2066 - mae: 4.6815 - val_loss: 1.9783 - val_mae: 2.4342\n",
      "Epoch 38/100\n",
      "19/19 [==============================] - 1s 32ms/step - loss: 4.0787 - mae: 4.5535 - val_loss: 6.9544 - val_mae: 7.4514\n",
      "Epoch 39/100\n",
      "19/19 [==============================] - 1s 29ms/step - loss: 4.0506 - mae: 4.5252 - val_loss: 2.1089 - val_mae: 2.5496\n",
      "Epoch 40/100\n",
      "19/19 [==============================] - 1s 33ms/step - loss: 4.0752 - mae: 4.5493 - val_loss: 1.9658 - val_mae: 2.4186\n",
      "Epoch 41/100\n",
      "19/19 [==============================] - 1s 34ms/step - loss: 4.0368 - mae: 4.5140 - val_loss: 5.1948 - val_mae: 5.6893\n",
      "Epoch 42/100\n",
      "19/19 [==============================] - 1s 36ms/step - loss: 4.2922 - mae: 4.7683 - val_loss: 2.9919 - val_mae: 3.4855\n",
      "Epoch 43/100\n",
      "19/19 [==============================] - 1s 34ms/step - loss: 3.7901 - mae: 4.2645 - val_loss: 2.1705 - val_mae: 2.6291\n",
      "Epoch 44/100\n",
      "19/19 [==============================] - 1s 33ms/step - loss: 3.9314 - mae: 4.4041 - val_loss: 3.3119 - val_mae: 3.8013\n",
      "Epoch 45/100\n",
      "19/19 [==============================] - 1s 35ms/step - loss: 3.9474 - mae: 4.4214 - val_loss: 2.7815 - val_mae: 3.2716\n",
      "Epoch 46/100\n",
      "19/19 [==============================] - 1s 36ms/step - loss: 4.0120 - mae: 4.4854 - val_loss: 2.8420 - val_mae: 3.3326\n",
      "Epoch 47/100\n",
      "19/19 [==============================] - 1s 33ms/step - loss: 3.8502 - mae: 4.3220 - val_loss: 2.3758 - val_mae: 2.8569\n",
      "Epoch 48/100\n",
      "19/19 [==============================] - 1s 34ms/step - loss: 3.9340 - mae: 4.4062 - val_loss: 3.3331 - val_mae: 3.8268\n",
      "Epoch 49/100\n",
      "19/19 [==============================] - 1s 32ms/step - loss: 3.8874 - mae: 4.3601 - val_loss: 1.9032 - val_mae: 2.3582\n",
      "Epoch 50/100\n",
      "19/19 [==============================] - 1s 30ms/step - loss: 3.8088 - mae: 4.2836 - val_loss: 3.0790 - val_mae: 3.5717\n",
      "Epoch 51/100\n",
      "19/19 [==============================] - 1s 34ms/step - loss: 3.8783 - mae: 4.3502 - val_loss: 1.7706 - val_mae: 2.1975\n",
      "Epoch 52/100\n",
      "19/19 [==============================] - 1s 35ms/step - loss: 3.9141 - mae: 4.3882 - val_loss: 1.9321 - val_mae: 2.3928\n",
      "Epoch 53/100\n",
      "19/19 [==============================] - 1s 34ms/step - loss: 3.8220 - mae: 4.2911 - val_loss: 3.7741 - val_mae: 4.2605\n",
      "Epoch 54/100\n",
      "19/19 [==============================] - 1s 33ms/step - loss: 3.9727 - mae: 4.4480 - val_loss: 1.7958 - val_mae: 2.2241\n",
      "Epoch 55/100\n",
      "19/19 [==============================] - 1s 34ms/step - loss: 3.6065 - mae: 4.0783 - val_loss: 3.6880 - val_mae: 4.1732\n",
      "Epoch 56/100\n",
      "19/19 [==============================] - 1s 33ms/step - loss: 3.7906 - mae: 4.2620 - val_loss: 6.3771 - val_mae: 6.8701\n",
      "Epoch 57/100\n",
      "19/19 [==============================] - 1s 34ms/step - loss: 3.7943 - mae: 4.2670 - val_loss: 2.1074 - val_mae: 2.5705\n",
      "Epoch 58/100\n",
      "19/19 [==============================] - 1s 34ms/step - loss: 3.6443 - mae: 4.1137 - val_loss: 3.3253 - val_mae: 3.8175\n",
      "Epoch 59/100\n",
      "19/19 [==============================] - 1s 34ms/step - loss: 3.7808 - mae: 4.2552 - val_loss: 3.7621 - val_mae: 4.2444\n",
      "Epoch 60/100\n",
      "19/19 [==============================] - 1s 32ms/step - loss: 3.5967 - mae: 4.0708 - val_loss: 2.2148 - val_mae: 2.6876\n",
      "Epoch 61/100\n",
      "19/19 [==============================] - 1s 32ms/step - loss: 3.8561 - mae: 4.3299 - val_loss: 4.3682 - val_mae: 4.8590\n",
      "Epoch 62/100\n",
      "19/19 [==============================] - 1s 34ms/step - loss: 3.6740 - mae: 4.1453 - val_loss: 2.5516 - val_mae: 3.0398\n",
      "Epoch 63/100\n",
      "19/19 [==============================] - 1s 33ms/step - loss: 3.5512 - mae: 4.0225 - val_loss: 1.9889 - val_mae: 2.4443\n",
      "Epoch 64/100\n",
      "19/19 [==============================] - 1s 33ms/step - loss: 3.5542 - mae: 4.0273 - val_loss: 2.2865 - val_mae: 2.7659\n",
      "Epoch 65/100\n",
      "19/19 [==============================] - 1s 34ms/step - loss: 3.7800 - mae: 4.2567 - val_loss: 2.2963 - val_mae: 2.7741\n",
      "Epoch 66/100\n",
      "19/19 [==============================] - 1s 36ms/step - loss: 3.5711 - mae: 4.0427 - val_loss: 5.3748 - val_mae: 5.8672\n",
      "Epoch 67/100\n",
      "19/19 [==============================] - 1s 34ms/step - loss: 3.7460 - mae: 4.2207 - val_loss: 5.4793 - val_mae: 5.9715\n",
      "Epoch 68/100\n",
      "19/19 [==============================] - 1s 33ms/step - loss: 3.5579 - mae: 4.0284 - val_loss: 1.9749 - val_mae: 2.4327\n",
      "Epoch 69/100\n",
      "19/19 [==============================] - 1s 33ms/step - loss: 3.4990 - mae: 3.9705 - val_loss: 3.1603 - val_mae: 3.6461\n",
      "Epoch 70/100\n",
      "19/19 [==============================] - 1s 32ms/step - loss: 3.6105 - mae: 4.0838 - val_loss: 3.7350 - val_mae: 4.2196\n",
      "Epoch 71/100\n",
      "19/19 [==============================] - 1s 35ms/step - loss: 3.5996 - mae: 4.0701 - val_loss: 5.0901 - val_mae: 5.5826\n",
      "Epoch 72/100\n",
      "19/19 [==============================] - 1s 35ms/step - loss: 3.6196 - mae: 4.0888 - val_loss: 4.1655 - val_mae: 4.6569\n",
      "Epoch 73/100\n",
      "19/19 [==============================] - 1s 34ms/step - loss: 3.4973 - mae: 3.9700 - val_loss: 2.8855 - val_mae: 3.3676\n",
      "Epoch 74/100\n",
      "19/19 [==============================] - 1s 36ms/step - loss: 3.3962 - mae: 3.8636 - val_loss: 3.3490 - val_mae: 3.8321\n",
      "Epoch 75/100\n",
      "19/19 [==============================] - 1s 34ms/step - loss: 3.5792 - mae: 4.0493 - val_loss: 2.0202 - val_mae: 2.4775\n",
      "Epoch 76/100\n",
      "19/19 [==============================] - 1s 35ms/step - loss: 3.4651 - mae: 3.9342 - val_loss: 1.7758 - val_mae: 2.2101\n",
      "Epoch 77/100\n",
      "19/19 [==============================] - 1s 31ms/step - loss: 3.5827 - mae: 4.0560 - val_loss: 1.8810 - val_mae: 2.3247\n",
      "Epoch 78/100\n",
      "19/19 [==============================] - 1s 30ms/step - loss: 3.4079 - mae: 3.8774 - val_loss: 1.7414 - val_mae: 2.1847\n",
      "Epoch 79/100\n",
      "19/19 [==============================] - 1s 32ms/step - loss: 3.5121 - mae: 3.9818 - val_loss: 2.5976 - val_mae: 3.0797\n",
      "Epoch 80/100\n",
      "19/19 [==============================] - 1s 36ms/step - loss: 3.5497 - mae: 4.0207 - val_loss: 3.3926 - val_mae: 3.8795\n",
      "Epoch 81/100\n",
      "19/19 [==============================] - 1s 34ms/step - loss: 3.5090 - mae: 3.9821 - val_loss: 1.9503 - val_mae: 2.3979\n",
      "Epoch 82/100\n",
      "19/19 [==============================] - 1s 34ms/step - loss: 3.3784 - mae: 3.8472 - val_loss: 3.4343 - val_mae: 3.9232\n",
      "Epoch 83/100\n",
      "19/19 [==============================] - 1s 34ms/step - loss: 3.2883 - mae: 3.7577 - val_loss: 1.7178 - val_mae: 2.1661\n",
      "Epoch 84/100\n",
      "19/19 [==============================] - 1s 34ms/step - loss: 3.5037 - mae: 3.9751 - val_loss: 1.8158 - val_mae: 2.2555\n",
      "Epoch 85/100\n",
      "19/19 [==============================] - 1s 35ms/step - loss: 3.4207 - mae: 3.8888 - val_loss: 2.5018 - val_mae: 2.9782\n",
      "Epoch 86/100\n",
      "19/19 [==============================] - 1s 32ms/step - loss: 3.2813 - mae: 3.7502 - val_loss: 1.7707 - val_mae: 2.2133\n",
      "Epoch 87/100\n",
      "19/19 [==============================] - 1s 35ms/step - loss: 3.4884 - mae: 3.9609 - val_loss: 1.9312 - val_mae: 2.3771\n",
      "Epoch 88/100\n",
      "19/19 [==============================] - 1s 35ms/step - loss: 3.3194 - mae: 3.7885 - val_loss: 3.1715 - val_mae: 3.6586\n",
      "Epoch 89/100\n",
      "19/19 [==============================] - 1s 34ms/step - loss: 3.4223 - mae: 3.8942 - val_loss: 1.8000 - val_mae: 2.2386\n",
      "Epoch 90/100\n",
      "19/19 [==============================] - 1s 32ms/step - loss: 3.3182 - mae: 3.7854 - val_loss: 4.9864 - val_mae: 5.4758\n",
      "Epoch 91/100\n",
      "19/19 [==============================] - 1s 31ms/step - loss: 3.3747 - mae: 3.8446 - val_loss: 2.3428 - val_mae: 2.8055\n",
      "Epoch 92/100\n",
      "19/19 [==============================] - 1s 34ms/step - loss: 3.4124 - mae: 3.8831 - val_loss: 1.9637 - val_mae: 2.4232\n",
      "Epoch 93/100\n",
      "19/19 [==============================] - 1s 34ms/step - loss: 3.3361 - mae: 3.8056 - val_loss: 1.9803 - val_mae: 2.4436\n",
      "Epoch 94/100\n",
      "19/19 [==============================] - 1s 33ms/step - loss: 3.3692 - mae: 3.8363 - val_loss: 1.9159 - val_mae: 2.3697\n",
      "Epoch 95/100\n",
      "19/19 [==============================] - 1s 33ms/step - loss: 3.3137 - mae: 3.7828 - val_loss: 2.1658 - val_mae: 2.6462\n",
      "Epoch 96/100\n",
      "19/19 [==============================] - 1s 34ms/step - loss: 3.4319 - mae: 3.9034 - val_loss: 1.9115 - val_mae: 2.3635\n",
      "Epoch 97/100\n",
      "19/19 [==============================] - 1s 34ms/step - loss: 3.2212 - mae: 3.6875 - val_loss: 2.0411 - val_mae: 2.5105\n",
      "Epoch 98/100\n",
      "19/19 [==============================] - 1s 30ms/step - loss: 3.3636 - mae: 3.8301 - val_loss: 2.7287 - val_mae: 3.2027\n",
      "Epoch 99/100\n",
      "19/19 [==============================] - 1s 32ms/step - loss: 3.2611 - mae: 3.7299 - val_loss: 2.3082 - val_mae: 2.7819\n",
      "Epoch 100/100\n",
      "19/19 [==============================] - 1s 34ms/step - loss: 3.3436 - mae: 3.8115 - val_loss: 3.7983 - val_mae: 4.2878\n"
     ]
    }
   ],
   "source": [
    "optimizer = tf.keras.optimizers.RMSprop(lr=1e-3)\n",
    "model.compile(loss=tf.keras.losses.Huber(),\n",
    "              optimizer=optimizer,\n",
    "              metrics=[\"mae\"])\n",
    "history = model.fit(train_set, validation_data=valid_set, epochs=100)"
   ]
  },
  {
   "cell_type": "markdown",
   "metadata": {},
   "source": [
    "# Validation"
   ]
  },
  {
   "cell_type": "code",
   "execution_count": 18,
   "metadata": {},
   "outputs": [
    {
     "data": {
      "text/plain": [
       "<matplotlib.legend.Legend at 0x7f869070ed10>"
      ]
     },
     "execution_count": 18,
     "metadata": {},
     "output_type": "execute_result"
    },
    {
     "data": {
      "image/png": "[encoded data removed]",
      "text/plain": [
       "<Figure size 432x288 with 1 Axes>"
      ]
     },
     "metadata": {
      "needs_background": "light"
     },
     "output_type": "display_data"
    }
   ],
   "source": [
    "y_true = []\n",
    "y_pred = []\n",
    "\n",
    "for x,y in valid_set:\n",
    "    #print(x.shape, y.shape)\n",
    "    y_hat = model.predict(x)\n",
    "    #print(y_hat.shape, y_hat.dtype)\n",
    "    y_true += list(y)\n",
    "    y_pred = list(y_hat)\n",
    "\n",
    "time_index = list(x_valid[window_size+delay-1:].index)\n",
    "plt.plot(time_index, y_true, label=\"valid_true\",c=\"orange\")\n",
    "plt.plot(time_index, y_pred, label=\"valid_pred\",c=\"red\")\n",
    "plt.legend()"
   ]
  },
  {
   "cell_type": "code",
   "execution_count": 19,
   "metadata": {},
   "outputs": [
    {
     "data": {
      "text/plain": [
       "2412    2020-11-19\n",
       "2413    2020-11-20\n",
       "2414    2020-11-23\n",
       "2415    2020-11-24\n",
       "2416    2020-11-25\n",
       "           ...    \n",
       "2512    2021-04-16\n",
       "2513    2021-04-19\n",
       "2514    2021-04-20\n",
       "2515    2021-04-21\n",
       "2516    2021-04-22\n",
       "Name: Date, Length: 103, dtype: object"
      ]
     },
     "execution_count": 19,
     "metadata": {},
     "output_type": "execute_result"
    }
   ],
   "source": [
    "time_str_valid"
   ]
  },
  {
   "cell_type": "markdown",
   "metadata": {},
   "source": [
    "# Forecast"
   ]
  },
  {
   "cell_type": "code",
   "execution_count": 20,
   "metadata": {},
   "outputs": [
    {
     "data": {
      "text/plain": [
       "<matplotlib.legend.Legend at 0x7f869022d350>"
      ]
     },
     "execution_count": 20,
     "metadata": {},
     "output_type": "execute_result"
    },
    {
     "data": {
      "image/png": "[encoded data removed]",
      "text/plain": [
       "<Figure size 432x288 with 1 Axes>"
      ]
     },
     "metadata": {
      "needs_background": "light"
     },
     "output_type": "display_data"
    }
   ],
   "source": [
    "forcast_days = 200\n",
    "forcast_data = list(x_forcast.values)\n",
    "time_index = list(x_forcast.index)\n",
    "\n",
    "for day in range(forcast_days):\n",
    "    x = np.array(forcast_data[day:day+window_size])[np.newaxis]\n",
    "    y_hat = model.predict(x)\n",
    "    forcast_data.append(int(y_hat))\n",
    "    time_index.append(time_index[-1]+1)\n",
    "\n",
    "\n",
    "plt.plot(x_train, label=\"train\")\n",
    "plt.plot(x_valid, label=\"valid\")\n",
    "plt.plot(time_index, forcast_data, label=\"forcast_pred\")\n",
    "plt.legend()    \n"
   ]
  },
  {
   "cell_type": "code",
   "execution_count": 21,
   "metadata": {},
   "outputs": [
    {
     "data": {
      "text/plain": [
       "<matplotlib.legend.Legend at 0x7f869017ed90>"
      ]
     },
     "execution_count": 21,
     "metadata": {},
     "output_type": "execute_result"
    },
    {
     "data": {
      "image/png": "[encoded data removed]",
      "text/plain": [
       "<Figure size 432x288 with 1 Axes>"
      ]
     },
     "metadata": {
      "needs_background": "light"
     },
     "output_type": "display_data"
    }
   ],
   "source": [
    "plt.plot(x_train, label=\"train\")\n",
    "plt.plot(x_valid, label=\"valid\")\n",
    "plt.plot(time_index[-forcast_days:], forcast_data[-forcast_days:], label=\"forcast_pred\")\n",
    "plt.xlim([2300,None])\n",
    "plt.legend()  "
   ]
  },
  {
   "cell_type": "code",
   "execution_count": null,
   "metadata": {},
   "outputs": [],
   "source": []
  }
 ],
 "metadata": {
  "kernelspec": {
   "display_name": "Python 3",
   "language": "python",
   "name": "python3"
  },
  "language_info": {
   "codemirror_mode": {
    "name": "ipython",
    "version": 3
   },
   "file_extension": ".py",
   "mimetype": "text/x-python",
   "name": "python",
   "nbconvert_exporter": "python",
   "pygments_lexer": "ipython3",
   "version": "3.7.6"
  }
 },
 "nbformat": 4,
 "nbformat_minor": 4
}
