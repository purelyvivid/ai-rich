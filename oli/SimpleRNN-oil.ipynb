{
 "cells": [
  {
   "cell_type": "code",
   "execution_count": null,
   "metadata": {},
   "outputs": [],
   "source": [
    "cp -r ~/datasets/meetup/backup/CrudeOil ."
   ]
  },
  {
   "cell_type": "code",
   "execution_count": 2,
   "metadata": {},
   "outputs": [
    {
     "name": "stdout",
     "output_type": "stream",
     "text": [
      "2.4.1\n"
     ]
    }
   ],
   "source": [
    "import tensorflow as tf\n",
    "import numpy as np\n",
    "import pandas as pd\n",
    "import matplotlib.pyplot as plt\n",
    "print(tf.__version__)"
   ]
  },
  {
   "cell_type": "markdown",
   "metadata": {},
   "source": [
    "# Load Data"
   ]
  },
  {
   "cell_type": "code",
   "execution_count": 2,
   "metadata": {},
   "outputs": [
    {
     "data": {
      "text/plain": [
       "(2517, 7)"
      ]
     },
     "execution_count": 2,
     "metadata": {},
     "output_type": "execute_result"
    }
   ],
   "source": [
    "data = pd.read_csv(\"CrudeOil/CL=F_daily.csv\")\n",
    "data.shape"
   ]
  },
  {
   "cell_type": "code",
   "execution_count": 3,
   "metadata": {},
   "outputs": [
    {
     "data": {
      "text/html": [
       "<div>\n",
       "<style scoped>\n",
       "    .dataframe tbody tr th:only-of-type {\n",
       "        vertical-align: middle;\n",
       "    }\n",
       "\n",
       "    .dataframe tbody tr th {\n",
       "        vertical-align: top;\n",
       "    }\n",
       "\n",
       "    .dataframe thead th {\n",
       "        text-align: right;\n",
       "    }\n",
       "</style>\n",
       "<table border=\"1\" class=\"dataframe\">\n",
       "  <thead>\n",
       "    <tr style=\"text-align: right;\">\n",
       "      <th></th>\n",
       "      <th>Date</th>\n",
       "      <th>Open</th>\n",
       "      <th>High</th>\n",
       "      <th>Low</th>\n",
       "      <th>Close</th>\n",
       "      <th>Adj Close</th>\n",
       "      <th>Volume</th>\n",
       "    </tr>\n",
       "  </thead>\n",
       "  <tbody>\n",
       "    <tr>\n",
       "      <th>0</th>\n",
       "      <td>2011-04-25</td>\n",
       "      <td>112.339996</td>\n",
       "      <td>113.480003</td>\n",
       "      <td>111.080002</td>\n",
       "      <td>112.279999</td>\n",
       "      <td>112.279999</td>\n",
       "      <td>209683.0</td>\n",
       "    </tr>\n",
       "    <tr>\n",
       "      <th>1</th>\n",
       "      <td>2011-04-26</td>\n",
       "      <td>112.150002</td>\n",
       "      <td>112.639999</td>\n",
       "      <td>111.120003</td>\n",
       "      <td>112.209999</td>\n",
       "      <td>112.209999</td>\n",
       "      <td>234441.0</td>\n",
       "    </tr>\n",
       "    <tr>\n",
       "      <th>2</th>\n",
       "      <td>2011-04-27</td>\n",
       "      <td>111.889999</td>\n",
       "      <td>113.400002</td>\n",
       "      <td>110.709999</td>\n",
       "      <td>112.760002</td>\n",
       "      <td>112.760002</td>\n",
       "      <td>338697.0</td>\n",
       "    </tr>\n",
       "    <tr>\n",
       "      <th>3</th>\n",
       "      <td>2011-04-28</td>\n",
       "      <td>113.129997</td>\n",
       "      <td>113.970001</td>\n",
       "      <td>111.690002</td>\n",
       "      <td>112.860001</td>\n",
       "      <td>112.860001</td>\n",
       "      <td>301604.0</td>\n",
       "    </tr>\n",
       "    <tr>\n",
       "      <th>4</th>\n",
       "      <td>2011-04-29</td>\n",
       "      <td>112.820000</td>\n",
       "      <td>114.180000</td>\n",
       "      <td>112.250000</td>\n",
       "      <td>113.930000</td>\n",
       "      <td>113.930000</td>\n",
       "      <td>201831.0</td>\n",
       "    </tr>\n",
       "  </tbody>\n",
       "</table>\n",
       "</div>"
      ],
      "text/plain": [
       "         Date        Open        High         Low       Close   Adj Close  \\\n",
       "0  2011-04-25  112.339996  113.480003  111.080002  112.279999  112.279999   \n",
       "1  2011-04-26  112.150002  112.639999  111.120003  112.209999  112.209999   \n",
       "2  2011-04-27  111.889999  113.400002  110.709999  112.760002  112.760002   \n",
       "3  2011-04-28  113.129997  113.970001  111.690002  112.860001  112.860001   \n",
       "4  2011-04-29  112.820000  114.180000  112.250000  113.930000  113.930000   \n",
       "\n",
       "     Volume  \n",
       "0  209683.0  \n",
       "1  234441.0  \n",
       "2  338697.0  \n",
       "3  301604.0  \n",
       "4  201831.0  "
      ]
     },
     "execution_count": 3,
     "metadata": {},
     "output_type": "execute_result"
    }
   ],
   "source": [
    "data.head()"
   ]
  },
  {
   "cell_type": "markdown",
   "metadata": {},
   "source": [
    "# Remove NaN"
   ]
  },
  {
   "cell_type": "code",
   "execution_count": 4,
   "metadata": {},
   "outputs": [
    {
     "data": {
      "text/plain": [
       "<matplotlib.axes._subplots.AxesSubplot at 0x7fcd4fe13ad0>"
      ]
     },
     "execution_count": 4,
     "metadata": {},
     "output_type": "execute_result"
    },
    {
     "data": {
      "image/png": "[encoded data removed]",
      "text/plain": [
       "<Figure size 432x288 with 1 Axes>"
      ]
     },
     "metadata": {
      "needs_background": "light"
     },
     "output_type": "display_data"
    }
   ],
   "source": [
    "data.Close.plot()"
   ]
  },
  {
   "cell_type": "code",
   "execution_count": 5,
   "metadata": {},
   "outputs": [
    {
     "data": {
      "text/plain": [
       "23"
      ]
     },
     "execution_count": 5,
     "metadata": {},
     "output_type": "execute_result"
    }
   ],
   "source": [
    "pd.isna(data.Close).sum()"
   ]
  },
  {
   "cell_type": "code",
   "execution_count": 6,
   "metadata": {},
   "outputs": [
    {
     "name": "stdout",
     "output_type": "stream",
     "text": [
      "(2494,)\n"
     ]
    }
   ],
   "source": [
    "series = data.Close[~pd.isna(data.Close)]\n",
    "time_str = data.Date[~pd.isna(data.Close)]\n",
    "print(series.shape)"
   ]
  },
  {
   "cell_type": "markdown",
   "metadata": {},
   "source": [
    "# Define Param"
   ]
  },
  {
   "cell_type": "code",
   "execution_count": 7,
   "metadata": {},
   "outputs": [],
   "source": [
    "window_size = 14\n",
    "delay = 10"
   ]
  },
  {
   "cell_type": "markdown",
   "metadata": {},
   "source": [
    "# Split Train/Valid"
   ]
  },
  {
   "cell_type": "code",
   "execution_count": 8,
   "metadata": {},
   "outputs": [
    {
     "name": "stdout",
     "output_type": "stream",
     "text": [
      "split_time_str:  2020-11-19\n"
     ]
    }
   ],
   "source": [
    "train_ratio = 0.95\n",
    "split_time = int(len(data)*train_ratio)\n",
    "print(\"split_time_str: \", time_str.iloc[split_time])"
   ]
  },
  {
   "cell_type": "code",
   "execution_count": 80,
   "metadata": {},
   "outputs": [
    {
     "name": "stdout",
     "output_type": "stream",
     "text": [
      "(2391,) (127,) (14,)\n"
     ]
    }
   ],
   "source": [
    "x_train = series[:split_time]\n",
    "x_valid = series[split_time-(window_size+delay):]\n",
    "x_forcast = series[-window_size:]\n",
    "print(x_train.shape, x_valid.shape, x_forcast.shape)"
   ]
  },
  {
   "cell_type": "code",
   "execution_count": 81,
   "metadata": {},
   "outputs": [
    {
     "data": {
      "text/plain": [
       "<matplotlib.legend.Legend at 0x7fcc286dfc10>"
      ]
     },
     "execution_count": 81,
     "metadata": {},
     "output_type": "execute_result"
    },
    {
     "data": {
      "image/png": "[encoded data removed]",
      "text/plain": [
       "<Figure size 432x288 with 1 Axes>"
      ]
     },
     "metadata": {
      "needs_background": "light"
     },
     "output_type": "display_data"
    }
   ],
   "source": [
    "plt.plot(x_train, label=\"train\")\n",
    "plt.plot(x_valid, label=\"valid\")\n",
    "plt.plot(x_forcast, label=\"forcast\")\n",
    "plt.legend()"
   ]
  },
  {
   "cell_type": "markdown",
   "metadata": {},
   "source": [
    "# Prepare Windowed Data"
   ]
  },
  {
   "cell_type": "code",
   "execution_count": 82,
   "metadata": {},
   "outputs": [],
   "source": [
    "def windowed_dataset(series, window_size, batch_size, shuffle_buffer, delay=1, train=True):\n",
    "    dataset = tf.data.Dataset.from_tensor_slices(series)\n",
    "    dataset = dataset.window(window_size + delay, shift=1, drop_remainder=True)\n",
    "    dataset = dataset.flat_map(lambda window: window.batch(window_size + delay))\n",
    "    if train:\n",
    "        dataset = dataset.shuffle(shuffle_buffer)\n",
    "    dataset = dataset.map(lambda window: (window[:window_size], window[-1]))\n",
    "    dataset = dataset.batch(batch_size).prefetch(1)  \n",
    "    return dataset"
   ]
  },
  {
   "cell_type": "code",
   "execution_count": 83,
   "metadata": {},
   "outputs": [],
   "source": [
    "tf.keras.backend.clear_session()\n",
    "tf.random.set_seed(51)\n",
    "np.random.seed(51)"
   ]
  },
  {
   "cell_type": "code",
   "execution_count": 86,
   "metadata": {},
   "outputs": [
    {
     "name": "stdout",
     "output_type": "stream",
     "text": [
      "(2367,) (103,)\n"
     ]
    }
   ],
   "source": [
    "batch_size = 32\n",
    "shuffle_buffer_size = 1000\n",
    "\n",
    "time_str_train = time_str[(window_size+delay):split_time]\n",
    "time_str_valid = time_str[split_time:]\n",
    "print(time_str_train.shape, time_str_valid.shape)\n",
    "\n",
    "train_set = windowed_dataset(x_train, window_size, batch_size=128, shuffle_buffer=shuffle_buffer_size, delay=delay)\n",
    "valid_set = windowed_dataset(x_valid, window_size, batch_size=128, shuffle_buffer=shuffle_buffer_size, delay=delay, train=False)"
   ]
  },
  {
   "cell_type": "code",
   "execution_count": 87,
   "metadata": {},
   "outputs": [
    {
     "name": "stdout",
     "output_type": "stream",
     "text": [
      "x.shape:  (128, 14) , y.shape:  (128,)\n",
      "#records:  2368\n",
      "x.shape:  (104, 14) , y.shape:  (104,)\n",
      "#records:  104\n"
     ]
    }
   ],
   "source": [
    "def check_data(dataset):\n",
    "    count=0\n",
    "    for i,(x,y) in enumerate(dataset):\n",
    "        count+=x.shape[0]\n",
    "        if i==0:\n",
    "            print(\"x.shape: \", x.shape, \", y.shape: \", y.shape)\n",
    "    print(\"#records: \", count)\n",
    "    \n",
    "check_data(train_set)\n",
    "check_data(valid_set)"
   ]
  },
  {
   "cell_type": "markdown",
   "metadata": {},
   "source": [
    "# Train Model"
   ]
  },
  {
   "cell_type": "code",
   "execution_count": 16,
   "metadata": {},
   "outputs": [],
   "source": [
    "model = tf.keras.models.Sequential([\n",
    "  tf.keras.layers.Lambda(lambda x: tf.expand_dims(x, axis=-1),\n",
    "                      input_shape=[None]),\n",
    "  tf.keras.layers.Lambda(lambda x: x / 100.0),\n",
    "  tf.keras.layers.SimpleRNN(40, return_sequences=True),\n",
    "  tf.keras.layers.SimpleRNN(40),\n",
    "  tf.keras.layers.Dense(1),\n",
    "  tf.keras.layers.Lambda(lambda x: x * 100.0),\n",
    "  tf.keras.layers.Lambda(lambda x: tf.squeeze(x, axis=-1) ),\n",
    "])"
   ]
  },
  {
   "cell_type": "code",
   "execution_count": 17,
   "metadata": {},
   "outputs": [
    {
     "name": "stdout",
     "output_type": "stream",
     "text": [
      "Epoch 1/100\n",
      "19/19 [==============================] - 3s 133ms/step - loss: 29.7096 - mae: 30.1770 - val_loss: 16.8296 - val_mae: 17.3296\n",
      "Epoch 2/100\n",
      "19/19 [==============================] - 1s 33ms/step - loss: 13.5417 - mae: 14.0238 - val_loss: 10.3852 - val_mae: 10.8852\n",
      "Epoch 3/100\n",
      "19/19 [==============================] - 1s 36ms/step - loss: 12.2281 - mae: 12.7150 - val_loss: 15.2034 - val_mae: 15.7034\n",
      "Epoch 4/100\n",
      "19/19 [==============================] - 1s 38ms/step - loss: 11.3692 - mae: 11.8666 - val_loss: 9.3402 - val_mae: 9.8402\n",
      "Epoch 5/100\n",
      "19/19 [==============================] - 1s 42ms/step - loss: 10.7795 - mae: 11.2691 - val_loss: 9.7929 - val_mae: 10.2929\n",
      "Epoch 6/100\n",
      "19/19 [==============================] - 1s 36ms/step - loss: 10.0093 - mae: 10.4974 - val_loss: 10.9787 - val_mae: 11.4787\n",
      "Epoch 7/100\n",
      "19/19 [==============================] - 1s 39ms/step - loss: 9.2061 - mae: 9.6960 - val_loss: 9.8303 - val_mae: 10.3303\n",
      "Epoch 8/100\n",
      "19/19 [==============================] - 1s 38ms/step - loss: 9.6098 - mae: 10.1000 - val_loss: 9.0209 - val_mae: 9.5209\n",
      "Epoch 9/100\n",
      "19/19 [==============================] - 1s 38ms/step - loss: 8.7509 - mae: 9.2446 - val_loss: 7.9889 - val_mae: 8.4889\n",
      "Epoch 10/100\n",
      "19/19 [==============================] - 1s 37ms/step - loss: 8.3178 - mae: 8.8084 - val_loss: 7.4242 - val_mae: 7.9242\n",
      "Epoch 11/100\n",
      "19/19 [==============================] - 1s 39ms/step - loss: 8.0947 - mae: 8.5870 - val_loss: 7.2561 - val_mae: 7.7489\n",
      "Epoch 12/100\n",
      "19/19 [==============================] - 1s 38ms/step - loss: 7.9785 - mae: 8.4723 - val_loss: 7.3170 - val_mae: 7.8170\n",
      "Epoch 13/100\n",
      "19/19 [==============================] - 1s 37ms/step - loss: 7.4758 - mae: 7.9658 - val_loss: 8.9677 - val_mae: 9.4677\n",
      "Epoch 14/100\n",
      "19/19 [==============================] - 1s 38ms/step - loss: 7.7087 - mae: 8.2008 - val_loss: 5.2685 - val_mae: 5.7681\n",
      "Epoch 15/100\n",
      "19/19 [==============================] - 1s 38ms/step - loss: 7.1927 - mae: 7.6810 - val_loss: 8.9322 - val_mae: 9.4320\n",
      "Epoch 16/100\n",
      "19/19 [==============================] - 1s 40ms/step - loss: 7.1453 - mae: 7.6369 - val_loss: 4.3870 - val_mae: 4.8744\n",
      "Epoch 17/100\n",
      "19/19 [==============================] - 1s 37ms/step - loss: 6.6152 - mae: 7.1072 - val_loss: 9.0584 - val_mae: 9.5584\n",
      "Epoch 18/100\n",
      "19/19 [==============================] - 1s 38ms/step - loss: 6.6470 - mae: 7.1386 - val_loss: 3.4603 - val_mae: 3.9427\n",
      "Epoch 19/100\n",
      "19/19 [==============================] - 1s 39ms/step - loss: 6.3367 - mae: 6.8227 - val_loss: 8.9048 - val_mae: 9.4047\n",
      "Epoch 20/100\n",
      "19/19 [==============================] - 1s 35ms/step - loss: 6.4580 - mae: 6.9468 - val_loss: 3.3986 - val_mae: 3.8773\n",
      "Epoch 21/100\n",
      "19/19 [==============================] - 1s 38ms/step - loss: 6.1872 - mae: 6.6750 - val_loss: 8.3053 - val_mae: 8.8010\n",
      "Epoch 22/100\n",
      "19/19 [==============================] - 1s 38ms/step - loss: 6.2530 - mae: 6.7424 - val_loss: 4.2815 - val_mae: 4.7666\n",
      "Epoch 23/100\n",
      "19/19 [==============================] - 1s 36ms/step - loss: 5.6640 - mae: 6.1500 - val_loss: 2.8637 - val_mae: 3.3275\n",
      "Epoch 24/100\n",
      "19/19 [==============================] - 1s 39ms/step - loss: 5.8808 - mae: 6.3682 - val_loss: 9.3262 - val_mae: 9.8262\n",
      "Epoch 25/100\n",
      "19/19 [==============================] - 1s 38ms/step - loss: 5.7877 - mae: 6.2750 - val_loss: 2.6951 - val_mae: 3.1635\n",
      "Epoch 26/100\n",
      "19/19 [==============================] - 1s 38ms/step - loss: 5.4657 - mae: 5.9492 - val_loss: 6.9427 - val_mae: 7.4390\n",
      "Epoch 27/100\n",
      "19/19 [==============================] - 1s 38ms/step - loss: 5.7859 - mae: 6.2710 - val_loss: 2.0262 - val_mae: 2.4763\n",
      "Epoch 28/100\n",
      "19/19 [==============================] - 1s 40ms/step - loss: 5.5709 - mae: 6.0559 - val_loss: 6.9052 - val_mae: 7.3955\n",
      "Epoch 29/100\n",
      "19/19 [==============================] - 1s 40ms/step - loss: 5.2612 - mae: 5.7480 - val_loss: 2.0003 - val_mae: 2.4467\n",
      "Epoch 30/100\n",
      "19/19 [==============================] - 1s 39ms/step - loss: 5.3831 - mae: 5.8641 - val_loss: 8.1883 - val_mae: 8.6844\n",
      "Epoch 31/100\n",
      "19/19 [==============================] - 1s 36ms/step - loss: 5.1300 - mae: 5.6168 - val_loss: 1.7441 - val_mae: 2.1920\n",
      "Epoch 32/100\n",
      "19/19 [==============================] - 1s 39ms/step - loss: 4.9858 - mae: 5.4682 - val_loss: 6.9600 - val_mae: 7.4565\n",
      "Epoch 33/100\n",
      "19/19 [==============================] - 1s 40ms/step - loss: 5.3631 - mae: 5.8503 - val_loss: 2.6036 - val_mae: 3.0633\n",
      "Epoch 34/100\n",
      "19/19 [==============================] - 1s 41ms/step - loss: 4.8550 - mae: 5.3364 - val_loss: 6.7049 - val_mae: 7.1981\n",
      "Epoch 35/100\n",
      "19/19 [==============================] - 1s 39ms/step - loss: 5.1430 - mae: 5.6234 - val_loss: 1.8531 - val_mae: 2.2938\n",
      "Epoch 36/100\n",
      "19/19 [==============================] - 1s 39ms/step - loss: 4.9415 - mae: 5.4229 - val_loss: 5.5836 - val_mae: 6.0711\n",
      "Epoch 37/100\n",
      "19/19 [==============================] - 1s 40ms/step - loss: 4.7629 - mae: 5.2429 - val_loss: 2.5507 - val_mae: 3.0082\n",
      "Epoch 38/100\n",
      "19/19 [==============================] - 1s 37ms/step - loss: 4.6744 - mae: 5.1546 - val_loss: 6.9748 - val_mae: 7.4719\n",
      "Epoch 39/100\n",
      "19/19 [==============================] - 1s 38ms/step - loss: 4.7608 - mae: 5.2424 - val_loss: 2.8391 - val_mae: 3.2968\n",
      "Epoch 40/100\n",
      "19/19 [==============================] - 1s 40ms/step - loss: 4.4907 - mae: 4.9693 - val_loss: 5.8935 - val_mae: 6.3885\n",
      "Epoch 41/100\n",
      "19/19 [==============================] - 1s 39ms/step - loss: 4.7401 - mae: 5.2200 - val_loss: 1.9789 - val_mae: 2.4371\n",
      "Epoch 42/100\n",
      "19/19 [==============================] - 1s 41ms/step - loss: 4.3214 - mae: 4.8005 - val_loss: 5.3074 - val_mae: 5.8044\n",
      "Epoch 43/100\n",
      "19/19 [==============================] - 1s 37ms/step - loss: 4.6406 - mae: 5.1238 - val_loss: 1.7818 - val_mae: 2.2197\n",
      "Epoch 44/100\n",
      "19/19 [==============================] - 1s 37ms/step - loss: 4.1358 - mae: 4.6131 - val_loss: 5.3945 - val_mae: 5.8881\n",
      "Epoch 45/100\n",
      "19/19 [==============================] - 1s 38ms/step - loss: 4.4689 - mae: 4.9504 - val_loss: 2.1512 - val_mae: 2.6147\n",
      "Epoch 46/100\n",
      "19/19 [==============================] - 1s 37ms/step - loss: 4.1987 - mae: 4.6753 - val_loss: 5.0670 - val_mae: 5.5644\n",
      "Epoch 47/100\n",
      "19/19 [==============================] - 1s 37ms/step - loss: 4.1616 - mae: 4.6402 - val_loss: 1.9754 - val_mae: 2.4323\n",
      "Epoch 48/100\n",
      "19/19 [==============================] - 1s 37ms/step - loss: 4.2927 - mae: 4.7685 - val_loss: 5.2172 - val_mae: 5.7082\n",
      "Epoch 49/100\n",
      "19/19 [==============================] - 1s 39ms/step - loss: 3.8858 - mae: 4.3595 - val_loss: 2.4533 - val_mae: 2.9176\n",
      "Epoch 50/100\n",
      "19/19 [==============================] - 1s 42ms/step - loss: 4.1098 - mae: 4.5857 - val_loss: 4.6068 - val_mae: 5.0941\n",
      "Epoch 51/100\n",
      "19/19 [==============================] - 1s 36ms/step - loss: 4.1915 - mae: 4.6730 - val_loss: 2.1637 - val_mae: 2.6299\n",
      "Epoch 52/100\n",
      "19/19 [==============================] - 1s 38ms/step - loss: 4.0335 - mae: 4.5090 - val_loss: 4.9495 - val_mae: 5.4421\n",
      "Epoch 53/100\n",
      "19/19 [==============================] - 1s 40ms/step - loss: 3.8652 - mae: 4.3395 - val_loss: 2.0366 - val_mae: 2.4961\n",
      "Epoch 54/100\n",
      "19/19 [==============================] - 1s 38ms/step - loss: 3.8159 - mae: 4.2886 - val_loss: 2.0885 - val_mae: 2.5538\n",
      "Epoch 55/100\n",
      "19/19 [==============================] - 1s 38ms/step - loss: 3.7097 - mae: 4.1776 - val_loss: 5.0185 - val_mae: 5.5064\n",
      "Epoch 56/100\n",
      "19/19 [==============================] - 1s 36ms/step - loss: 4.1590 - mae: 4.6329 - val_loss: 1.8601 - val_mae: 2.3001\n",
      "Epoch 57/100\n",
      "19/19 [==============================] - 1s 37ms/step - loss: 3.8016 - mae: 4.2748 - val_loss: 3.6479 - val_mae: 4.1406\n",
      "Epoch 58/100\n",
      "19/19 [==============================] - 1s 41ms/step - loss: 3.7896 - mae: 4.2626 - val_loss: 1.8626 - val_mae: 2.3028\n",
      "Epoch 59/100\n",
      "19/19 [==============================] - 1s 38ms/step - loss: 3.8751 - mae: 4.3456 - val_loss: 3.3029 - val_mae: 3.7909\n",
      "Epoch 60/100\n",
      "19/19 [==============================] - 1s 40ms/step - loss: 3.7767 - mae: 4.2516 - val_loss: 3.1638 - val_mae: 3.6469\n",
      "Epoch 61/100\n",
      "19/19 [==============================] - 1s 39ms/step - loss: 3.7398 - mae: 4.2186 - val_loss: 1.9408 - val_mae: 2.4014\n",
      "Epoch 62/100\n",
      "19/19 [==============================] - 1s 38ms/step - loss: 3.6316 - mae: 4.1014 - val_loss: 1.8909 - val_mae: 2.3445\n",
      "Epoch 63/100\n",
      "19/19 [==============================] - 1s 40ms/step - loss: 3.7799 - mae: 4.2546 - val_loss: 4.3767 - val_mae: 4.8699\n",
      "Epoch 64/100\n",
      "19/19 [==============================] - 1s 36ms/step - loss: 3.8097 - mae: 4.2805 - val_loss: 1.9495 - val_mae: 2.4061\n",
      "Epoch 65/100\n",
      "19/19 [==============================] - 1s 37ms/step - loss: 3.6342 - mae: 4.1070 - val_loss: 5.0395 - val_mae: 5.5310\n",
      "Epoch 66/100\n",
      "19/19 [==============================] - 1s 35ms/step - loss: 3.8493 - mae: 4.3223 - val_loss: 1.8290 - val_mae: 2.2654\n",
      "Epoch 67/100\n",
      "19/19 [==============================] - 1s 38ms/step - loss: 3.5879 - mae: 4.0609 - val_loss: 4.5835 - val_mae: 5.0729\n",
      "Epoch 68/100\n",
      "19/19 [==============================] - 1s 39ms/step - loss: 3.6225 - mae: 4.0930 - val_loss: 5.1641 - val_mae: 5.6532\n",
      "Epoch 69/100\n",
      "19/19 [==============================] - 1s 39ms/step - loss: 3.8260 - mae: 4.2978 - val_loss: 1.8411 - val_mae: 2.2834\n",
      "Epoch 70/100\n",
      "19/19 [==============================] - 1s 40ms/step - loss: 3.3615 - mae: 3.8305 - val_loss: 2.8845 - val_mae: 3.3632\n",
      "Epoch 71/100\n",
      "19/19 [==============================] - 1s 40ms/step - loss: 3.6688 - mae: 4.1424 - val_loss: 1.8292 - val_mae: 2.2752\n",
      "Epoch 72/100\n",
      "19/19 [==============================] - 1s 38ms/step - loss: 3.5217 - mae: 3.9959 - val_loss: 4.1265 - val_mae: 4.6215\n",
      "Epoch 73/100\n",
      "19/19 [==============================] - 1s 40ms/step - loss: 3.7149 - mae: 4.1880 - val_loss: 4.2668 - val_mae: 4.7623\n",
      "Epoch 74/100\n",
      "19/19 [==============================] - 1s 38ms/step - loss: 3.5805 - mae: 4.0553 - val_loss: 1.8691 - val_mae: 2.3160\n",
      "Epoch 75/100\n",
      "19/19 [==============================] - 1s 41ms/step - loss: 3.4142 - mae: 3.8838 - val_loss: 5.6254 - val_mae: 6.1161\n",
      "Epoch 76/100\n",
      "19/19 [==============================] - 1s 34ms/step - loss: 3.5955 - mae: 4.0655 - val_loss: 1.8914 - val_mae: 2.3317\n",
      "Epoch 77/100\n",
      "19/19 [==============================] - 1s 36ms/step - loss: 3.3801 - mae: 3.8490 - val_loss: 2.7184 - val_mae: 3.1955\n",
      "Epoch 78/100\n",
      "19/19 [==============================] - 1s 36ms/step - loss: 3.6207 - mae: 4.0930 - val_loss: 1.8925 - val_mae: 2.3433\n",
      "Epoch 79/100\n",
      "19/19 [==============================] - 1s 39ms/step - loss: 3.5016 - mae: 3.9740 - val_loss: 1.8280 - val_mae: 2.2763\n",
      "Epoch 80/100\n",
      "19/19 [==============================] - 1s 37ms/step - loss: 3.4645 - mae: 3.9343 - val_loss: 2.0650 - val_mae: 2.5159\n",
      "Epoch 81/100\n",
      "19/19 [==============================] - 1s 38ms/step - loss: 3.5144 - mae: 3.9866 - val_loss: 3.3627 - val_mae: 3.8418\n",
      "Epoch 82/100\n",
      "19/19 [==============================] - 1s 38ms/step - loss: 3.4877 - mae: 3.9620 - val_loss: 1.9297 - val_mae: 2.3755\n",
      "Epoch 83/100\n",
      "19/19 [==============================] - 1s 39ms/step - loss: 3.4383 - mae: 3.9080 - val_loss: 3.3737 - val_mae: 3.8578\n",
      "Epoch 84/100\n",
      "19/19 [==============================] - 1s 40ms/step - loss: 3.3632 - mae: 3.8328 - val_loss: 1.8617 - val_mae: 2.3014\n",
      "Epoch 85/100\n",
      "19/19 [==============================] - 1s 37ms/step - loss: 3.3783 - mae: 3.8502 - val_loss: 1.9845 - val_mae: 2.4239\n",
      "Epoch 86/100\n",
      "19/19 [==============================] - 1s 39ms/step - loss: 3.2099 - mae: 3.6780 - val_loss: 5.3967 - val_mae: 5.8859\n",
      "Epoch 87/100\n",
      "19/19 [==============================] - 1s 39ms/step - loss: 3.5683 - mae: 4.0386 - val_loss: 1.9138 - val_mae: 2.3634\n",
      "Epoch 88/100\n",
      "19/19 [==============================] - 1s 38ms/step - loss: 3.3152 - mae: 3.7862 - val_loss: 1.9038 - val_mae: 2.3513\n",
      "Epoch 89/100\n",
      "19/19 [==============================] - 1s 39ms/step - loss: 3.4700 - mae: 3.9396 - val_loss: 2.9474 - val_mae: 3.4237\n",
      "Epoch 90/100\n",
      "19/19 [==============================] - 1s 36ms/step - loss: 3.4029 - mae: 3.8766 - val_loss: 1.9971 - val_mae: 2.4484\n",
      "Epoch 91/100\n",
      "19/19 [==============================] - 1s 39ms/step - loss: 3.3060 - mae: 3.7788 - val_loss: 4.6841 - val_mae: 5.1761\n",
      "Epoch 92/100\n",
      "19/19 [==============================] - 1s 41ms/step - loss: 3.4195 - mae: 3.8896 - val_loss: 2.7233 - val_mae: 3.1997\n",
      "Epoch 93/100\n",
      "19/19 [==============================] - 1s 39ms/step - loss: 3.4541 - mae: 3.9227 - val_loss: 1.8649 - val_mae: 2.3165\n",
      "Epoch 94/100\n",
      "19/19 [==============================] - 1s 38ms/step - loss: 3.3610 - mae: 3.8338 - val_loss: 4.2374 - val_mae: 4.7285\n",
      "Epoch 95/100\n",
      "19/19 [==============================] - 1s 39ms/step - loss: 3.3043 - mae: 3.7737 - val_loss: 2.2998 - val_mae: 2.7687\n",
      "Epoch 96/100\n",
      "19/19 [==============================] - 1s 39ms/step - loss: 3.3128 - mae: 3.7816 - val_loss: 2.4450 - val_mae: 2.9262\n",
      "Epoch 97/100\n",
      "19/19 [==============================] - 1s 38ms/step - loss: 3.3391 - mae: 3.8119 - val_loss: 1.9495 - val_mae: 2.4029\n",
      "Epoch 98/100\n",
      "19/19 [==============================] - 1s 41ms/step - loss: 3.2827 - mae: 3.7517 - val_loss: 3.2547 - val_mae: 3.7323\n",
      "Epoch 99/100\n",
      "19/19 [==============================] - 1s 37ms/step - loss: 3.2253 - mae: 3.6928 - val_loss: 4.4290 - val_mae: 4.9246\n",
      "Epoch 100/100\n",
      "19/19 [==============================] - 1s 40ms/step - loss: 3.3707 - mae: 3.8399 - val_loss: 1.8677 - val_mae: 2.3103\n"
     ]
    }
   ],
   "source": [
    "optimizer = tf.keras.optimizers.RMSprop(lr=1e-3)\n",
    "model.compile(loss=tf.keras.losses.Huber(),\n",
    "              optimizer=optimizer,\n",
    "              metrics=[\"mae\"])\n",
    "history = model.fit(train_set, validation_data=valid_set, epochs=100)"
   ]
  },
  {
   "cell_type": "markdown",
   "metadata": {},
   "source": [
    "# Validation"
   ]
  },
  {
   "cell_type": "code",
   "execution_count": 125,
   "metadata": {},
   "outputs": [
    {
     "data": {
      "text/plain": [
       "<matplotlib.legend.Legend at 0x7fcbe4417550>"
      ]
     },
     "execution_count": 125,
     "metadata": {},
     "output_type": "execute_result"
    },
    {
     "data": {
      "image/png": "[encoded data removed]",
      "text/plain": [
       "<Figure size 432x288 with 1 Axes>"
      ]
     },
     "metadata": {
      "needs_background": "light"
     },
     "output_type": "display_data"
    }
   ],
   "source": [
    "y_true = []\n",
    "y_pred = []\n",
    "\n",
    "for x,y in valid_set:\n",
    "    #print(x.shape, y.shape)\n",
    "    y_hat = model.predict(x)\n",
    "    #print(y_hat.shape, y_hat.dtype)\n",
    "    y_true += list(y)\n",
    "    y_pred = list(y_hat)\n",
    "\n",
    "time_index = list(x_valid[window_size+delay-1:].index)\n",
    "plt.plot(time_index, y_true, label=\"valid_true\",c=\"orange\")\n",
    "plt.plot(time_index, y_pred, label=\"valid_pred\",c=\"red\")\n",
    "plt.legend()"
   ]
  },
  {
   "cell_type": "code",
   "execution_count": 89,
   "metadata": {},
   "outputs": [
    {
     "data": {
      "text/plain": [
       "2412    2020-11-19\n",
       "2413    2020-11-20\n",
       "2414    2020-11-23\n",
       "2415    2020-11-24\n",
       "2416    2020-11-25\n",
       "           ...    \n",
       "2512    2021-04-16\n",
       "2513    2021-04-19\n",
       "2514    2021-04-20\n",
       "2515    2021-04-21\n",
       "2516    2021-04-22\n",
       "Name: Date, Length: 103, dtype: object"
      ]
     },
     "execution_count": 89,
     "metadata": {},
     "output_type": "execute_result"
    }
   ],
   "source": [
    "time_str_valid"
   ]
  },
  {
   "cell_type": "markdown",
   "metadata": {},
   "source": [
    "# Forecast"
   ]
  },
  {
   "cell_type": "code",
   "execution_count": 147,
   "metadata": {},
   "outputs": [
    {
     "data": {
      "text/plain": [
       "<matplotlib.legend.Legend at 0x7fcbdc2524d0>"
      ]
     },
     "execution_count": 147,
     "metadata": {},
     "output_type": "execute_result"
    },
    {
     "data": {
      "image/png": "[encoded data removed]",
      "text/plain": [
       "<Figure size 432x288 with 1 Axes>"
      ]
     },
     "metadata": {
      "needs_background": "light"
     },
     "output_type": "display_data"
    }
   ],
   "source": [
    "forcast_days = 200\n",
    "forcast_data = list(x_forcast.values)\n",
    "time_index = list(x_forcast.index)\n",
    "\n",
    "for day in range(forcast_days):\n",
    "    x = np.array(forcast_data[day:day+window_size])[np.newaxis]\n",
    "    y_hat = model.predict(x)\n",
    "    forcast_data.append(int(y_hat))\n",
    "    time_index.append(time_index[-1]+1)\n",
    "\n",
    "\n",
    "plt.plot(x_train, label=\"train\")\n",
    "plt.plot(x_valid, label=\"valid\")\n",
    "plt.plot(time_index, forcast_data, label=\"forcast_pred\")\n",
    "plt.legend()    \n"
   ]
  },
  {
   "cell_type": "code",
   "execution_count": 149,
   "metadata": {},
   "outputs": [
    {
     "data": {
      "text/plain": [
       "<matplotlib.legend.Legend at 0x7fcbe47c39d0>"
      ]
     },
     "execution_count": 149,
     "metadata": {},
     "output_type": "execute_result"
    },
    {
     "data": {
      "image/png": "[encoded data removed]",
      "text/plain": [
       "<Figure size 432x288 with 1 Axes>"
      ]
     },
     "metadata": {
      "needs_background": "light"
     },
     "output_type": "display_data"
    }
   ],
   "source": [
    "plt.plot(x_train, label=\"train\")\n",
    "plt.plot(x_valid, label=\"valid\")\n",
    "plt.plot(time_index[-forcast_days:], forcast_data[-forcast_days:], label=\"forcast_pred\")\n",
    "plt.xlim([2300,None])\n",
    "plt.legend()  "
   ]
  },
  {
   "cell_type": "code",
   "execution_count": null,
   "metadata": {},
   "outputs": [],
   "source": []
  }
 ],
 "metadata": {
  "kernelspec": {
   "display_name": "Python 3",
   "language": "python",
   "name": "python3"
  },
  "language_info": {
   "codemirror_mode": {
    "name": "ipython",
    "version": 3
   },
   "file_extension": ".py",
   "mimetype": "text/x-python",
   "name": "python",
   "nbconvert_exporter": "python",
   "pygments_lexer": "ipython3",
   "version": "3.7.10"
  }
 },
 "nbformat": 4,
 "nbformat_minor": 4
}
